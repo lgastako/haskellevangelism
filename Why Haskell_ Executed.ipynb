{
 "cells": [
  {
   "cell_type": "markdown",
   "metadata": {},
   "source": [
    "# Why Haskell? \n",
    "\n",
    "> The purpose of abstraction is not to be vague, but to create a new semantic level in which one can be absolutely precise.\n",
    "> - Edsger Dijkstra\n",
    "\n",
    "The short answer is that I believe that:\n",
    "\n",
    "## Haskell is the Best Available Language for Writing \"Boring Line of Business\" Applications\n",
    "\n",
    "This might be a suprising claim for people that have looked into Haskell previously.  Based on it's reputation as a weird academic language you might expect to hear the opposite -- that it excels in certain esoteric or specialized (maybe \"mathy\") domains but not so much for \"practical\" situations like building a CRUD web app.\n",
    "\n",
    "First, I will say that Haskell isn't all sunshine and roses.  I think the biggest problem is that Haskell seems to strange and scary to experienced programmers coming from other languages.  If you are already familiar with Java and you decide to learn python not only do a lot of the concept translate pretty directly but the areas where they differ allow you to easily compare them and evaluate the tradeoffs.\n",
    "\n",
    "Encountering Haskell is more like the type of situation that arises in sci-fi movies where the heroes encounter aliens that have strange (usually green) alien-technology versions of all of the familiar weapons and tools they are used to.  Inevitabiy the alien weapons have more fire power than the human versions -- eg. they are energy weapons instead of bullets driven by gun powder, they are indestructible, they have limitless power sources, and so on.  \n",
    "\n",
    "<img width=\"500\" height=\"262\" src=\"http://www.makecnc.com/prodimages/megatronic_ray_gun_plans_1000.jpg\">\n",
    "\n",
    "Maybe the first time a human tries to use one of the alien guns they get shocked or they blow a huge hole in the wall or have some other experience that frightens them away from trying to use the alien tech for their own purposes.  In the movies though there's usually some otherwise hopeless situation that forces the humans to resort to harnessing the superior alien technology to save the themselves or more likely the entire planet.\n",
    "\n",
    "It's relatively rare to encounter such dire circumstances in the world of programming languages, so the unfortunate reality is that most developers coming from other languages tend to be gunshy and reluctant to press on after their initial encounter with Haskell.  The good news is that unlike literal alien technology, while the people that have created Haskell and related technology might *seem* like aliens to us, they're really just super nerdy humans -- which means a) if they can understand it so can we, and b) they're actually around, available to help us and usually friendly to our cause.\n",
    "\n",
    "This inability for experienced developers from other languages to easily get up to speed leads to a much smaller community than other mainstream languages, and the smaller community leads to a whole host of knock-on effects around eg. tooling, learning resources, opportunities for learning on the job, inability to ramp up large teams quickly, etc.\n",
    "\n",
    "The rest of this notebook will be my attempt to justify and clarify my headline claim above and maybe convince you that like crazy high-tech alien energy weapons, Haskell affords us such a high degree of increas leverage that these disadvantages are easily outweighed by the advantages in the long run (even if we're \"just\" building CRUD web apps).\n",
    "\n",
    "Hopefully if you're reading (or hearing) this you've already been through my Taste of Haskell introductory material and you came away with the understanding that quite a lot can be accomplished in Haskell using tools that are similar to those that you are familiar with from other languages.  In the sections that follow I hope to elaborate on some of the differences and what benefits those differences bring to the experience of developing software in order to justify the effort required to understand their strangeness.\n",
    "\n",
    "Ultimately I think the only sure way to really grok what I'm trying to communicate is to dive in and get over the hurdle of the strangeness and get to the point where you start to experience the benefits first hand -- so I will consider it to be a success if I convince you that such a journey might be worth embarking on.\n",
    "\n",
    "## Let's get started.\n",
    "\n",
    "Any good Haskell module/blog post/notebook begins with a raft of language pragmas (which enable various extensions to the core language) and import statements.  As a quick aside, these language pragmas are often one of the things that seem to put people off the language a bit.  I see a lot of posts even from people that like Haskell complaining that dealing with the pragmas/extensions is one of the worst parts of Haskell.  I really don't understand what the big deal here is.  In practice you don't have to worry about language extensions until you want to do something that requires them, then while learning that thing you will learn about the extension you need and you'll put in your project (either at the top of the file or in your .cabal file) and you're good to go.  There are a few language extensions that are contentious for various reasons but for the most part no one uses them and you don't have worry about them.\n",
    "\n",
    "One of the warts of Haskell is that the default Prelude (think \"standard library\") includes a number of partial functions.  This basically means pure functions that can fail to return an answer of expected type for one reason or another (usually throw an exception or loop forever).  It's possible to write Haskell using the default Prelude and just avoid these through conscientiousness but it's a lot easier to just switch out the Prelude for one that replaces these functions with total versions.  Protolude is one such alternative Prelude and it doesn't make any controversial choices so it's a good choice for those starting out or for basing your own custom Prelude on.\n",
    "\n",
    "We'll add additional pragmas and imports throughout the document so there's at least some opportunity to understand what they are doing."
   ]
  },
  {
   "cell_type": "code",
   "execution_count": 1,
   "metadata": {},
   "outputs": [],
   "source": [
    ":ext NoImplicitPrelude\n",
    "\n",
    "import           Protolude\n",
    "import qualified Prelude   as P  -- Expose the original Prelude so we can use naughty functions when convenient"
   ]
  },
  {
   "cell_type": "markdown",
   "metadata": {},
   "source": [
    "## Concepts We're Going to Cover\n",
    "\n",
    "- Succinctness / Terseness\n",
    "- Static Typing (with Type Inference)\n",
    "  - No \"billion dollar mistake\" (null)\n",
    "- Algebraic Data Types\n",
    "- Purity / Referential Transparency\n",
    "- Parametricity\n",
    "- Totality\n",
    "- Explicit Effects\n",
    "- Laziness\n",
    "- Immutability\n",
    "- Pattern Matching\n",
    "\n",
    "After we get through these we'll dig into some examples that highlight the advantages these features provide in practice:\n",
    "\n",
    "- The StreamSource Algebraic Data Type \n",
    "- Haxl\n",
    "- Fun with Optics (Lenses)\n",
    "- Dependently Typed Tensorflow\n",
    "- Property-based Testing with QuickCheck\n",
    "- Idris (Beyond Haskell)\n",
    "\n",
    "## Succinctness / Terseness\n",
    "\n",
    "- BENEFIT: Easier to comprehend code when there's less of it.\n",
    "- BENEFIT: Easier to compose small bits of functionality into larger solutions when there's less noise in the way.\n",
    "\n",
    "One of the defining charateristics of (well written) Haskell code is that it is succinct or terse.  People tend to use the word terse but I find that that terseness often has a bit of negative connotation attached -- as it the code is \"too terse\" or \"terse code is hard to read\".  I think \"succinctness\" is a better term and conveys more clearly that our ultimate goal is clarity.  It's easy to imagine (and write!) code that is too terse but hard to imagine code that is \"too succinct\" or \"too clear\".\n",
    "\n",
    "This is an example from Aaron Contorer the CEO of FP Complete via one of their marketing videos.  It's obviously fairly contrived but I would argue that it is a fairly accurate representation of the types of differences you see when rewriting code \"in the small\" from other statically typed languages (Javas in this case) to Haskell:\n",
    "\n",
    "```java\n",
    "final int LIMIT = 50;\n",
    "int [] a = new int[LIMIT];\n",
    "int [] b = new int[LIMIT - 5];\n",
    "\n",
    "for (int i=0; i<LIMIT; i++) {\n",
    "  a[i] = (i+1) * 2;\n",
    "  if (i >= 5) {\n",
    "    b[i-5] = a[i];\n",
    "  }\n",
    "}\n",
    "```\n",
    "\n",
    "vs\n",
    "\n",
    "```haskell\n",
    "let a = [2,4..100]\n",
    "let b = drop 5 a\n",
    "```\n",
    "\n",
    "It's clear at a glance what the Haskel code is doing whereas even an experienced Java developer will take a few moments to step through the Java code trying to reason about what the loops are doing and figuring out what the final output would be.  \n",
    "\n",
    "The difference is even more pronounced instead of just reading the code casually you are reading it in a situation like a code review or because you are trying to track down a bug.  In the Java code you have to start checking whether the bounds of the array are declared properly, whether each part of the loop declaration is correct, and so forth and so on.  In the Haskell code you got most of that in the same first glance.  There's just far less room for bugs to hide.\n",
    "\n",
    "It's worth noting here that in modern Java you can probably write something much closer to the Haskell code, perhaps something like this:\n",
    "\n",
    "```java\n",
    "import java.util.stream.IntStream;\n",
    "import java.util.Arrays;\n",
    "\n",
    "final int[] a = IntStream.range(2, 100).filter(n -> n % 2 == 0).toArray();\n",
    "final int[] b = Arrays.stream(a).filter(n -> n > 10).toArray();\n",
    "System.out.println(Arrays.toString(a));\n",
    "System.out.println(Arrays.toString(b));\n",
    "```\n",
    "\n",
    "It may be possible write this even more succinctly in Java but this is about the best I could do having been free of Java for more than a decade.  \n",
    "\n",
    "As you can see not only is it still considerably more cumbersome than the equivalent Haskell code but it's not even really equivalent:\n",
    "\n",
    "- In the Haskell code the initial list from 2-100 is generated once, and then \"drop 5\" version just uses the fifth element as the head of a new list.  The 'b' list is entirely shared with the same range from the 'a' list.\n",
    "- There's also not this conversion to/from Arrays.  The conversion toArray at the end is not only necessary to print it out but also because IntStreams can only be consumed once in Java.  Then we have to convert back to a stream to do the filtering to produce the 'b' list.  Then we have to convert back to an array to print them out... using an awkward `Arrays.toString` helper which adds another wart.  \n",
    "- On top of that there's no built in \"drop\" method for streams so I had to resort to the \"filter\" hack which doesn't scale as I had to stop and do the math to figure out which the fifth value would be -- which works in this trivial example but wouldn't if the calculation were any more complex.  \n",
    "\n",
    "Almost all of the extraneous noise here is in service of communicating to the Java compiler how to do what you want to do, whereas the Haskell version reads like a description of the result you want with little to no information about how it should be accomplished.  Hopefully this benefit is obvious even in small samples of code like this but the ability to focus on expressing the business goal rather than constructing a machine to accomplish the business goal becomes really valuable as you scale to larger and larger amounts of code.\n",
    "\n",
    "The last bullet point above could be worked around by implementing a \"drop\" method or function in your own library but even this appears to be much more awkward than it would be in Haskell, where the naive recursive solution would be:"
   ]
  },
  {
   "cell_type": "code",
   "execution_count": 2,
   "metadata": {},
   "outputs": [
    {
     "data": {
      "text/plain": [
       "[6,7,8,9,10]"
      ]
     },
     "metadata": {},
     "output_type": "display_data"
    }
   ],
   "source": [
    "recDrop _ [] = []\n",
    "recDrop n (x:xs)\n",
    "  | n <= 0    = x:xs\n",
    "  | otherwise = recDrop (n - 1) xs\n",
    "  \n",
    "print (recDrop 5 [1..10])  "
   ]
  },
  {
   "cell_type": "markdown",
   "metadata": {},
   "source": [
    "And there are a million other ways to achieve the same thing easily with other built in functions, eg something like this which takes advantage of `dropWhile` (which is a method on java's streams) but does so by zipping the list with it's index and then unzipping it (which would, as far as I can tell, be very cumbersome in java (since again, there's no existing `zip`, `fst`, `snd` etc):"
   ]
  },
  {
   "cell_type": "code",
   "execution_count": 3,
   "metadata": {},
   "outputs": [
    {
     "data": {
      "text/plain": [
       "[6,7,8,9,10]"
      ]
     },
     "metadata": {},
     "output_type": "display_data"
    }
   ],
   "source": [
    "zipDrop n = map snd . dropWhile ((< n) . fst) . zip [0..]\n",
    "\n",
    "print (zipDrop 5 [1..10])"
   ]
  },
  {
   "cell_type": "markdown",
   "metadata": {},
   "source": [
    "As a further aside, even if we didn't have the range notation that allows us to express even numbers easily, I would argue the Haskell version of `IntStream.range(2, 100).filter(n -> n % 2 == 0)` is much more expressive and easier to understand at a glance than the java version:"
   ]
  },
  {
   "cell_type": "code",
   "execution_count": 4,
   "metadata": {},
   "outputs": [
    {
     "data": {
      "text/plain": [
       "[2,4,6,8,10,12,14,16,18,20,22,24,26,28,30,32,34,36,38,40,42,44,46,48,50,52,54,56,58,60,62,64,66,68,70,72,74,76,78,80,82,84,86,88,90,92,94,96,98,100]"
      ]
     },
     "metadata": {},
     "output_type": "display_data"
    }
   ],
   "source": [
    "filter even [1..100]"
   ]
  },
  {
   "cell_type": "markdown",
   "metadata": {},
   "source": [
    "Hopefully it's obvious what the original example does but just for completeness:"
   ]
  },
  {
   "cell_type": "code",
   "execution_count": 5,
   "metadata": {},
   "outputs": [
    {
     "data": {
      "text/plain": [
       "[2,4,6,8,10,12,14,16,18,20,22,24,26,28,30,32,34,36,38,40,42,44,46,48,50,52,54,56,58,60,62,64,66,68,70,72,74,76,78,80,82,84,86,88,90,92,94,96,98,100]"
      ]
     },
     "metadata": {},
     "output_type": "display_data"
    },
    {
     "data": {
      "text/plain": [
       "[12,14,16,18,20,22,24,26,28,30,32,34,36,38,40,42,44,46,48,50,52,54,56,58,60,62,64,66,68,70,72,74,76,78,80,82,84,86,88,90,92,94,96,98,100]"
      ]
     },
     "metadata": {},
     "output_type": "display_data"
    }
   ],
   "source": [
    "let a = [2,4..100]\n",
    "let b = drop 5 a\n",
    "\n",
    "print a\n",
    "print b"
   ]
  },
  {
   "cell_type": "markdown",
   "metadata": {},
   "source": [
    "Obviously you get similar advantages when rewriting Java in many dynamic languages, like say Ruby or Python.  The biggest difference is that the Haskell code still has all of the advantages of static typing that the Java code had -- and more.  Which leads us to...\n",
    "\n",
    "## Static Typing (with Type Inference)\n",
    "\n",
    "- BENEFIT: Catch mistakes/issues earlier in the process, closer to where you made them.\n",
    "- BENEFIT: (of Type Inference) Less typing / noise as compared to popular forms of Static Typing (eg Java, C#, etc).\n",
    "\n",
    "Most language features represent a set of tradeoffs and Static Typing in general is no different.  I think most people think of languages like Java or C# when they think of statically typed languages.  However the experience of static typing as implemented in Haskell is quite different from the experience of static typing in those languages.\n",
    "\n",
    "One of the major reasons for the difference is type inference.  Haskell can infer the types of most values (including functions) in most situations.  This is why were able to make it through almost the entire introductory portion without ever having to write a type signature.  If it were possible to add type inference to Java in a principled way I think it would go a long way towards making the experience of writing Java code as nice as the experience of writing Python code.\n",
    "\n",
    "Haskell's type system also has a number of advanced features which allow us to leverage the type system to even greater effect.  For example, per [this blog post](https://medium.com/@johnmcclean/simulating-higher-kinded-types-in-java-b52a18b72c74) this is what we would like to (but cannot) write as a generalized definition for `Functor` in Java:\n",
    "\n",
    "```java\n",
    "public interface Functor<C> {\n",
    "     public <T,R> C<R> map(Function<? super T, ? extends R> mapper, C<T> genericType);\n",
    "}\n",
    "```\n",
    "\n",
    "Not only is it impossible to write but even if it were possible the noise of the rest of Java's syntax makes it hard for even a competent Java program to see what's going on without quite a bit of scrutiny and thought, whereas the actual definition of the `Functor` typeclass in Haskell is this:"
   ]
  },
  {
   "cell_type": "code",
   "execution_count": 6,
   "metadata": {},
   "outputs": [],
   "source": [
    "class MyFunctor f where\n",
    "  myfmap :: (a -> b) -> f a -> f b"
   ]
  },
  {
   "cell_type": "markdown",
   "metadata": {},
   "source": [
    "...which more or less says what it does: \"`f` is a (My)`Functor` if you can implement a function called (my)`fmap` which takes a function from `a` to `b` and an instance of (My)`Functor` of `a`'s and returns a (My)`Functor`  of `b`'s.\n",
    "\n",
    "Functor is one of (if not the) most fundamental class in Haskell and it's used everywhere.  Some common examples are:"
   ]
  },
  {
   "cell_type": "code",
   "execution_count": 7,
   "metadata": {},
   "outputs": [
    {
     "data": {
      "text/plain": [
       "[3,6,9,12,15,18,21,24,27,30]"
      ]
     },
     "metadata": {},
     "output_type": "display_data"
    },
    {
     "data": {
      "text/plain": [
       "Just 15"
      ]
     },
     "metadata": {},
     "output_type": "display_data"
    },
    {
     "data": {
      "text/plain": [
       "Nothing"
      ]
     },
     "metadata": {},
     "output_type": "display_data"
    },
    {
     "data": {
      "text/plain": [
       "Right 21"
      ]
     },
     "metadata": {},
     "output_type": "display_data"
    },
    {
     "data": {
      "text/plain": [
       "Left \"hello\""
      ]
     },
     "metadata": {},
     "output_type": "display_data"
    }
   ],
   "source": [
    "print $ fmap (*3) [1..10]\n",
    "print $ fmap (*3) (Just 5)\n",
    "print $ fmap (*3) Nothing\n",
    "print $ fmap (*3) (Right 7)\n",
    "print $ fmap (*3) (Left \"hello\")"
   ]
  },
  {
   "cell_type": "markdown",
   "metadata": {},
   "source": [
    "A particularly interesting example is IO actions, which we haven't gotten to yet, but to tease a little, here is an IO action (which doesn't actually do any IO) that takes a number and adds one to it:"
   ]
  },
  {
   "cell_type": "code",
   "execution_count": 8,
   "metadata": {},
   "outputs": [
    {
     "data": {
      "text/plain": [
       "11"
      ]
     },
     "metadata": {},
     "output_type": "display_data"
    }
   ],
   "source": [
    "askPlusOneIO :: IO Int\n",
    "askPlusOneIO = do\n",
    "  n <- P.read <$> P.getLine\n",
    "  return (n + 1)\n",
    "  \n",
    "askPlusOneIO >>= print"
   ]
  },
  {
   "cell_type": "markdown",
   "metadata": {},
   "source": [
    "and we can `fmap` over it to get an IO action that does the same thing then multplies by three:"
   ]
  },
  {
   "cell_type": "code",
   "execution_count": 9,
   "metadata": {},
   "outputs": [
    {
     "data": {
      "text/plain": [
       "33"
      ]
     },
     "metadata": {},
     "output_type": "display_data"
    }
   ],
   "source": [
    "askPlusOneTimesThreeIO :: IO Int\n",
    "askPlusOneTimesThreeIO = fmap (*3) askPlusOneIO\n",
    "\n",
    "askPlusOneTimesThreeIO"
   ]
  },
  {
   "cell_type": "markdown",
   "metadata": {},
   "source": [
    "...which leads us to:\n",
    "\n",
    "## Algebraic Data Types\n",
    "\n",
    "- BENEFIT: Makes it easier to model your domain accurately.\n",
    "- BENEFIT: Makes it easier to create non-leaky abstractions.\n",
    "\n",
    "There are no \"special types\" in Haskell -- there is syntax sugar for lists, tuples and numbers but they could all be implemented directly as ADTs if they didn't already exist (just with more awkward syntax/apperance).\n",
    "\n",
    "The primary benefit of ADTs is that once you are familiar with them they make domain modeling easier than in most other languages.\n",
    "\n",
    "A simple example of this is modeling the situation of loading a list of results from the network.  In JavaScript you might be tempted to do something like this:\n",
    "\n",
    "In your business logic:\n",
    "\n",
    "```javascript\n",
    "var curState = { items: [] };  // empty list = not yet fetched\n",
    "      \n",
    "fetchItems(curState);\n",
    "```\n",
    "\n",
    "In your view (probably in template logic, but you get the idea):\n",
    "\n",
    "```javascript\n",
    "if (curState.items.length == 0) {\n",
    "  renderLoadingScreen();\n",
    "} else {\n",
    "  renderTheItems(curState.items);\n",
    "}\n",
    "```\n",
    "\n",
    "The problem here is that if the actual data fetch returns an empty list then you will continue to render the loading screen instead of an empty list, or perhaps better a \"No Items Exist\" null state view that provides helpful hints on creating your first item.\n",
    "\n",
    "This isn't that hard to fix in JS... you could add as separate flag for whether the items have been fetched and be on your way.  The problem is that as you run into more and more little issues like this (eg. how do you handle the case where there was an error fetching the data?) your code will accrete more and more special case flags, and it won't always be clear what an empty list means, or when you need to add logic to look at which flags, etc.\n",
    "\n",
    "With Algebraic data types we can model the situation like this:"
   ]
  },
  {
   "cell_type": "code",
   "execution_count": 10,
   "metadata": {},
   "outputs": [],
   "source": [
    "type Item = () -- dummy value\n",
    "\n",
    "data CurState\n",
    "  = Loading\n",
    "  | LoadingError Text\n",
    "  | ItemsLoaded [Item]"
   ]
  },
  {
   "cell_type": "markdown",
   "metadata": {},
   "source": [
    "Now, everywhere that you deal with `CurState` you will be forced to use pattern matching to deconstruct the value and handle each case.  If you miss a case the compiler will let you know:"
   ]
  },
  {
   "cell_type": "code",
   "execution_count": 11,
   "metadata": {},
   "outputs": [
    {
     "data": {
      "text/plain": [
       "\"Loading...\""
      ]
     },
     "metadata": {},
     "output_type": "display_data"
    }
   ],
   "source": [
    "state = Loading\n",
    "\n",
    "case state of\n",
    "  Loading           -> \"Loading...\"\n",
    "  ItemsLoaded items -> \"Loaded \" ++ show (length items) ++ \" items.\""
   ]
  },
  {
   "cell_type": "markdown",
   "metadata": {},
   "source": [
    "Unfortunately IHaskell disables warnings because the nature of a notebook causes a plethora of them, and if you enable them it displays them in the console instead of the notebook, but if we had them enabled we would see something like this:"
   ]
  },
  {
   "cell_type": "markdown",
   "metadata": {},
   "source": [
    "    <interactive>:1:1: warning: [-Wincomplete-patterns]\n",
    "        Pattern match(es) are non-exhaustive\n",
    "        In a case alternative: Patterns not matched: (LoadingError _)"
   ]
  },
  {
   "cell_type": "markdown",
   "metadata": {},
   "source": [
    "ADTs have some ancillary benefits like enabling you to think through the space of your types algebraically all ADTs are a \"sum of products\" -- each additional constructor adds to the number of possible values and each additional parameter in a given constructor multiplies the number of values that constructor can produce.  For example:"
   ]
  },
  {
   "cell_type": "code",
   "execution_count": 12,
   "metadata": {},
   "outputs": [],
   "source": [
    "data Foo\n",
    "  = Bar Char Bool\n",
    "  | Baz Char\n",
    "  deriving (Eq, Ord, Read, Show)  "
   ]
  },
  {
   "cell_type": "markdown",
   "metadata": {},
   "source": [
    "The type `Foo` can be constructed with the `Bar` constructor which takes a `Char` and a `Bool`.  A char can be any unicode value but for the moment lets pretend they are restricted to the 256 ASCII characters.  In this case the `Bar` constructor can take on 256 chars _times_ one of 2 bools, for a total of 512 possible values.  The `Baz` constructor can take on only the 256 possible char values.  Together the total space of `Foo` is the 512 possible values for `Bar` _plus_ the 256 possible values of `Baz` for a total of 768 possible values.\n",
    "\n",
    "Other languages that have them all have other problems: Idris/Agda not production ready yet, no ecosystem, libraries.  Scala/FSharp mixes in OOP too -- on the Scala side this makes things way more complex, on the fsharp side this makes things less powerful."
   ]
  },
  {
   "cell_type": "markdown",
   "metadata": {},
   "source": [
    "## Purity\n",
    "\n",
    "- BENEFIT: Referential transparency\n",
    "- BENEFIT: Enables equational reasoning\n",
    "- BENEFIT: Enables honest parametricity\n",
    "\n",
    "A pure function is one that behaves like a mathematical function -- that is, any time you give it the same arguments you will get the same result back.  This is as opposed to \"functions\" (methods, procedures, etc) in non-functional languages which can perform side effects like reading/writing a file, accessing the network.\n",
    "\n",
    "Purity provides a number of significant benefits, the biggest (in my opinion) being that, especially when coupled with immutability, reasoning about your code becomes drastically easier.  If you are debugging a function (perhaps not written by you) in a language with pervasive side effects then you might end up having to trace through every function call that it makes to find where some problem is occuring.  But in a pure function you can see that the only result of the function is the value returned.  \n",
    "\n",
    "We'll cover this in more detail in the section below on Explicit Effects but the canonical example usually involves some code that has a side-effect of firing missiles somewhere.  If you're trying to track down the place where the missiles are inexplicibly getting fired, you can instantly ignore every pure function doesn't have `IO` in it's signature.\n",
    "\n",
    "Another advantage of pure function is that since the same inputs always result in the same outputs they are trivially memoizable (and the results of trivially cachable in other situations).\n",
    "\n",
    "I ran out of time to cover equational reasoning but this is [a great post by Gabriel Gonzalez](http://www.haskellforall.com/2013/12/equational-reasoning.html) that covers the topic pretty well.\n",
    "\n",
    "On the last benefit listed above, without purity parametricity (the next topic) wouldn't be possible, because reflection and similar mechanism are side-effects that can be used to inspect parameteric values and discover their concrete types and then use their individual values, which would break parametricity."
   ]
  },
  {
   "cell_type": "markdown",
   "metadata": {},
   "source": [
    "## Parametric Polymorphism / Parametricity\n",
    "\n",
    "- BENEFIT: Reduces the space of things to think about (eg space errors can hide in)\n",
    "- BENEFIT: Allows type signature to serve as precise executable compiler verified documentation.\n",
    "\n",
    "Parametric polymorphism refers to functions that have type variables which are not constrainted by any typeclass constraints.\n",
    "\n",
    "The simplest example of such a function, and one of the canonical examples for discussions of parametric polymorphism is the identity function:"
   ]
  },
  {
   "cell_type": "code",
   "execution_count": 13,
   "metadata": {},
   "outputs": [
    {
     "data": {
      "text/html": [
       "<style>/* Styles used for the Hoogle display in the pager */\n",
       ".hoogle-doc {\n",
       "display: block;\n",
       "padding-bottom: 1.3em;\n",
       "padding-left: 0.4em;\n",
       "}\n",
       ".hoogle-code {\n",
       "display: block;\n",
       "font-family: monospace;\n",
       "white-space: pre;\n",
       "}\n",
       ".hoogle-text {\n",
       "display: block;\n",
       "}\n",
       ".hoogle-name {\n",
       "color: green;\n",
       "font-weight: bold;\n",
       "}\n",
       ".hoogle-head {\n",
       "font-weight: bold;\n",
       "}\n",
       ".hoogle-sub {\n",
       "display: block;\n",
       "margin-left: 0.4em;\n",
       "}\n",
       ".hoogle-package {\n",
       "font-weight: bold;\n",
       "font-style: italic;\n",
       "}\n",
       ".hoogle-module {\n",
       "font-weight: bold;\n",
       "}\n",
       ".hoogle-class {\n",
       "font-weight: bold;\n",
       "}\n",
       ".get-type {\n",
       "color: green;\n",
       "font-weight: bold;\n",
       "font-family: monospace;\n",
       "display: block;\n",
       "white-space: pre-wrap;\n",
       "}\n",
       ".show-type {\n",
       "color: green;\n",
       "font-weight: bold;\n",
       "font-family: monospace;\n",
       "margin-left: 1em;\n",
       "}\n",
       ".mono {\n",
       "font-family: monospace;\n",
       "display: block;\n",
       "}\n",
       ".err-msg {\n",
       "color: red;\n",
       "font-style: italic;\n",
       "font-family: monospace;\n",
       "white-space: pre;\n",
       "display: block;\n",
       "}\n",
       "#unshowable {\n",
       "color: red;\n",
       "font-weight: bold;\n",
       "}\n",
       ".err-msg.in.collapse {\n",
       "padding-top: 0.7em;\n",
       "}\n",
       ".highlight-code {\n",
       "white-space: pre;\n",
       "font-family: monospace;\n",
       "}\n",
       ".suggestion-warning { \n",
       "font-weight: bold;\n",
       "color: rgb(200, 130, 0);\n",
       "}\n",
       ".suggestion-error { \n",
       "font-weight: bold;\n",
       "color: red;\n",
       "}\n",
       ".suggestion-name {\n",
       "font-weight: bold;\n",
       "}\n",
       "</style><span class='get-type'>identity :: forall a. a -> a</span>"
      ],
      "text/plain": [
       "identity :: forall a. a -> a"
      ]
     },
     "metadata": {},
     "output_type": "display_data"
    }
   ],
   "source": [
    ":t identity     -- NB. This is from `Protolude, in the default Prelude this function is called simply `id`"
   ]
  },
  {
   "cell_type": "markdown",
   "metadata": {},
   "source": [
    "The type of the identity function tells us that given any value of a given type, the function will give you back a value of the same type.\n",
    "\n",
    "How many possible implementations of this function are there?  Well, there are actually several, but all of them except one are \"bottoms\" meaning they crash or fail in some way -- [Fast and Loose Reasoning is Morally Correct](https://www.cs.ox.ac.uk/jeremy.gibbons/publications/fast+loose.pdf) tells us that in general we can ignore these types of values in this type of discussion, but for completeness sack I'll present a few of the obvious bad examples:"
   ]
  },
  {
   "cell_type": "code",
   "execution_count": 14,
   "metadata": {},
   "outputs": [],
   "source": [
    ":ext ScopedTypeVariables\n",
    ":ext OverloadedStrings"
   ]
  },
  {
   "cell_type": "code",
   "execution_count": 15,
   "metadata": {},
   "outputs": [],
   "source": [
    "badIdentityError :: forall a. a -> a\n",
    "badIdentityError = panic \"bad identity\"\n",
    "\n",
    "badIdentityUndefined :: forall a. a -> a\n",
    "badIdentityUndefined = undefined\n",
    "\n",
    "badIdentityHang :: forall a. a -> a\n",
    "badIdentityHang = badIdentityHang"
   ]
  },
  {
   "cell_type": "markdown",
   "metadata": {},
   "source": [
    "I think this is just about it for the range of possible bad implementations.  That leaves us with one possible good implementation:"
   ]
  },
  {
   "cell_type": "code",
   "execution_count": 16,
   "metadata": {},
   "outputs": [],
   "source": [
    "goodIdentity :: forall a. a -> a\n",
    "goodIdentity x = x"
   ]
  },
  {
   "cell_type": "markdown",
   "metadata": {},
   "source": [
    "Which, of course, is what we expect from an identity function and is how the identity function is actually defined in Haskell.\n",
    "\n",
    "The interesting part here is that we can infer just from the type signature the exact implementation of the function.  Of course it's possible to write parametricly polymorphic functions for which you cannot deduce the entire implementation from the type signature but regardless of how complicated they get each unconstrained type variable eliminates a huge chunk of the space of possible implementations allowing for easier reasoning.\n",
    "\n",
    "As another example, compare the type signatures `[Int] -> Int` vs `[a] -> Int`.  There are numerous obvious non-bottom implementations of `[Int] -> Int`, eg:\n",
    "\n",
    "- `head`\n",
    "- `last`\n",
    "- `length`\n",
    "- `maximum`\n",
    "- `minimum`\n",
    "\n",
    "However if we make our signature more general so that it can handle any type of list, rather than just a list of `Int`s there is only one reasonable non-bottom implementation of `[a] -> Int`, namely... ?"
   ]
  },
  {
   "cell_type": "markdown",
   "metadata": {},
   "source": [
    "## Totality\n",
    "\n",
    "- BENEFIT: Makes type signatures more honest (better from documentation point of view)\n",
    "- BENEFIT: Less error handling code (try/catch) sprinkled throughout business logic\n",
    "- BENEFIT: Enables confident composition of small pieces \n",
    "\n",
    "Haskell isn't actually total (like Idris or Agda) but in practice you can exist in a largely total world and it's relatively easy to get a grip on what is and is not total and constrain yourself largely to the total space whenever possible.  \n",
    "\n",
    "Though there are a few places where it inevitably creeps back in, the obvious one being division by zero.  The reason for this is that it's simply too convenient to be able to write expressions in mathematical notation, but if you are working in a domain where the issue came up frequently it's easy enough to implement your own safe division operator and use that:"
   ]
  },
  {
   "cell_type": "code",
   "execution_count": 17,
   "metadata": {},
   "outputs": [
    {
     "data": {
      "text/plain": [
       "Just 2.5"
      ]
     },
     "metadata": {},
     "output_type": "display_data"
    },
    {
     "data": {
      "text/plain": [
       "Nothing"
      ]
     },
     "metadata": {},
     "output_type": "display_data"
    }
   ],
   "source": [
    "safeDiv :: (Eq a, Fractional a) => a -> a -> Maybe a\n",
    "safeDiv n 0 = Nothing\n",
    "safeDiv n d = Just $ n / d\n",
    "\n",
    "print (safeDiv 5 2)\n",
    "print (safeDiv 3 0)"
   ]
  },
  {
   "cell_type": "markdown",
   "metadata": {},
   "source": [
    "Totality is liberating.  Probably the simplest motivating example of this is that total functions cannot throw exceptions or crash in any other way.  How happy would you be if I told you that none of your python or Java functions can throw exceptions or crash anymore?\n",
    "\n",
    "See again [Fast and loose reasoning is morally correct](https://www.cs.ox.ac.uk/jeremy.gibbons/publications/fast+loose.pdf) for more details."
   ]
  },
  {
   "cell_type": "markdown",
   "metadata": {},
   "source": [
    "## Explicit Effects\n",
    "\n",
    "- BENEFIT: Enables composition (and first class manipulation) of effectful computations\n",
    "- BENEFIT: Allows pushing as much as possible into pure functions to simplify considerations when coding\n",
    "\n",
    "This is related closely to purity.  I don't have the time I wanted to go into this but the general idea is that functions like `print` which cause a side-effect (output to the console in this case) must indicate this fact in their type signature:"
   ]
  },
  {
   "cell_type": "code",
   "execution_count": 18,
   "metadata": {},
   "outputs": [
    {
     "data": {
      "text/html": [
       "<style>/* Styles used for the Hoogle display in the pager */\n",
       ".hoogle-doc {\n",
       "display: block;\n",
       "padding-bottom: 1.3em;\n",
       "padding-left: 0.4em;\n",
       "}\n",
       ".hoogle-code {\n",
       "display: block;\n",
       "font-family: monospace;\n",
       "white-space: pre;\n",
       "}\n",
       ".hoogle-text {\n",
       "display: block;\n",
       "}\n",
       ".hoogle-name {\n",
       "color: green;\n",
       "font-weight: bold;\n",
       "}\n",
       ".hoogle-head {\n",
       "font-weight: bold;\n",
       "}\n",
       ".hoogle-sub {\n",
       "display: block;\n",
       "margin-left: 0.4em;\n",
       "}\n",
       ".hoogle-package {\n",
       "font-weight: bold;\n",
       "font-style: italic;\n",
       "}\n",
       ".hoogle-module {\n",
       "font-weight: bold;\n",
       "}\n",
       ".hoogle-class {\n",
       "font-weight: bold;\n",
       "}\n",
       ".get-type {\n",
       "color: green;\n",
       "font-weight: bold;\n",
       "font-family: monospace;\n",
       "display: block;\n",
       "white-space: pre-wrap;\n",
       "}\n",
       ".show-type {\n",
       "color: green;\n",
       "font-weight: bold;\n",
       "font-family: monospace;\n",
       "margin-left: 1em;\n",
       "}\n",
       ".mono {\n",
       "font-family: monospace;\n",
       "display: block;\n",
       "}\n",
       ".err-msg {\n",
       "color: red;\n",
       "font-style: italic;\n",
       "font-family: monospace;\n",
       "white-space: pre;\n",
       "display: block;\n",
       "}\n",
       "#unshowable {\n",
       "color: red;\n",
       "font-weight: bold;\n",
       "}\n",
       ".err-msg.in.collapse {\n",
       "padding-top: 0.7em;\n",
       "}\n",
       ".highlight-code {\n",
       "white-space: pre;\n",
       "font-family: monospace;\n",
       "}\n",
       ".suggestion-warning { \n",
       "font-weight: bold;\n",
       "color: rgb(200, 130, 0);\n",
       "}\n",
       ".suggestion-error { \n",
       "font-weight: bold;\n",
       "color: red;\n",
       "}\n",
       ".suggestion-name {\n",
       "font-weight: bold;\n",
       "}\n",
       "</style><span class='get-type'>print :: forall (m :: * -> *) a. (Show a, MonadIO m) => a -> m ()</span>"
      ],
      "text/plain": [
       "print :: forall (m :: * -> *) a. (Show a, MonadIO m) => a -> m ()"
      ]
     },
     "metadata": {},
     "output_type": "display_data"
    }
   ],
   "source": [
    ":t print"
   ]
  },
  {
   "cell_type": "markdown",
   "metadata": {},
   "source": [
    "This type signature is actually a little more complicated than it would normally be because we're using the version of `print` from `Protolude` which is more versatile than the built in one.  Let's check the type of the built in `print`:"
   ]
  },
  {
   "cell_type": "code",
   "execution_count": 19,
   "metadata": {},
   "outputs": [
    {
     "data": {
      "text/html": [
       "<style>/* Styles used for the Hoogle display in the pager */\n",
       ".hoogle-doc {\n",
       "display: block;\n",
       "padding-bottom: 1.3em;\n",
       "padding-left: 0.4em;\n",
       "}\n",
       ".hoogle-code {\n",
       "display: block;\n",
       "font-family: monospace;\n",
       "white-space: pre;\n",
       "}\n",
       ".hoogle-text {\n",
       "display: block;\n",
       "}\n",
       ".hoogle-name {\n",
       "color: green;\n",
       "font-weight: bold;\n",
       "}\n",
       ".hoogle-head {\n",
       "font-weight: bold;\n",
       "}\n",
       ".hoogle-sub {\n",
       "display: block;\n",
       "margin-left: 0.4em;\n",
       "}\n",
       ".hoogle-package {\n",
       "font-weight: bold;\n",
       "font-style: italic;\n",
       "}\n",
       ".hoogle-module {\n",
       "font-weight: bold;\n",
       "}\n",
       ".hoogle-class {\n",
       "font-weight: bold;\n",
       "}\n",
       ".get-type {\n",
       "color: green;\n",
       "font-weight: bold;\n",
       "font-family: monospace;\n",
       "display: block;\n",
       "white-space: pre-wrap;\n",
       "}\n",
       ".show-type {\n",
       "color: green;\n",
       "font-weight: bold;\n",
       "font-family: monospace;\n",
       "margin-left: 1em;\n",
       "}\n",
       ".mono {\n",
       "font-family: monospace;\n",
       "display: block;\n",
       "}\n",
       ".err-msg {\n",
       "color: red;\n",
       "font-style: italic;\n",
       "font-family: monospace;\n",
       "white-space: pre;\n",
       "display: block;\n",
       "}\n",
       "#unshowable {\n",
       "color: red;\n",
       "font-weight: bold;\n",
       "}\n",
       ".err-msg.in.collapse {\n",
       "padding-top: 0.7em;\n",
       "}\n",
       ".highlight-code {\n",
       "white-space: pre;\n",
       "font-family: monospace;\n",
       "}\n",
       ".suggestion-warning { \n",
       "font-weight: bold;\n",
       "color: rgb(200, 130, 0);\n",
       "}\n",
       ".suggestion-error { \n",
       "font-weight: bold;\n",
       "color: red;\n",
       "}\n",
       ".suggestion-name {\n",
       "font-weight: bold;\n",
       "}\n",
       "</style><span class='get-type'>P.print :: forall a. Show a => a -> IO ()</span>"
      ],
      "text/plain": [
       "P.print :: forall a. Show a => a -> IO ()"
      ]
     },
     "metadata": {},
     "output_type": "display_data"
    }
   ],
   "source": [
    ":t P.print"
   ]
  },
  {
   "cell_type": "markdown",
   "metadata": {},
   "source": [
    "Again dropping the forall which IHaskell adds, we get simply `Show a => a -> IO ()`.  This signature says \"given a value of type `a` which must be Showable, this function will execute an IO action which returns `()` (unit).  Whenever you see a signature of `IO ()` you immediately know that a side-effect is happening.\n",
    "\n",
    "An important thing to note here is that the IO action gets executed by the Haskell runtime at... well, runtime.  Until then, IO actions are still first class values that can be passed around to other functions and combined into new actions.  For example:"
   ]
  },
  {
   "cell_type": "code",
   "execution_count": 20,
   "metadata": {},
   "outputs": [
    {
     "data": {
      "text/html": [
       "<style>/* Styles used for the Hoogle display in the pager */\n",
       ".hoogle-doc {\n",
       "display: block;\n",
       "padding-bottom: 1.3em;\n",
       "padding-left: 0.4em;\n",
       "}\n",
       ".hoogle-code {\n",
       "display: block;\n",
       "font-family: monospace;\n",
       "white-space: pre;\n",
       "}\n",
       ".hoogle-text {\n",
       "display: block;\n",
       "}\n",
       ".hoogle-name {\n",
       "color: green;\n",
       "font-weight: bold;\n",
       "}\n",
       ".hoogle-head {\n",
       "font-weight: bold;\n",
       "}\n",
       ".hoogle-sub {\n",
       "display: block;\n",
       "margin-left: 0.4em;\n",
       "}\n",
       ".hoogle-package {\n",
       "font-weight: bold;\n",
       "font-style: italic;\n",
       "}\n",
       ".hoogle-module {\n",
       "font-weight: bold;\n",
       "}\n",
       ".hoogle-class {\n",
       "font-weight: bold;\n",
       "}\n",
       ".get-type {\n",
       "color: green;\n",
       "font-weight: bold;\n",
       "font-family: monospace;\n",
       "display: block;\n",
       "white-space: pre-wrap;\n",
       "}\n",
       ".show-type {\n",
       "color: green;\n",
       "font-weight: bold;\n",
       "font-family: monospace;\n",
       "margin-left: 1em;\n",
       "}\n",
       ".mono {\n",
       "font-family: monospace;\n",
       "display: block;\n",
       "}\n",
       ".err-msg {\n",
       "color: red;\n",
       "font-style: italic;\n",
       "font-family: monospace;\n",
       "white-space: pre;\n",
       "display: block;\n",
       "}\n",
       "#unshowable {\n",
       "color: red;\n",
       "font-weight: bold;\n",
       "}\n",
       ".err-msg.in.collapse {\n",
       "padding-top: 0.7em;\n",
       "}\n",
       ".highlight-code {\n",
       "white-space: pre;\n",
       "font-family: monospace;\n",
       "}\n",
       ".suggestion-warning { \n",
       "font-weight: bold;\n",
       "color: rgb(200, 130, 0);\n",
       "}\n",
       ".suggestion-error { \n",
       "font-weight: bold;\n",
       "color: red;\n",
       "}\n",
       ".suggestion-name {\n",
       "font-weight: bold;\n",
       "}\n",
       "</style><span class='get-type'>threeWaysToPrintAString :: forall (m :: * -> *) a. (MonadIO m, Show a, Print a) => [a -> m ()]</span>"
      ],
      "text/plain": [
       "threeWaysToPrintAString :: forall (m :: * -> *) a. (MonadIO m, Show a, Print a) => [a -> m ()]"
      ]
     },
     "metadata": {},
     "output_type": "display_data"
    }
   ],
   "source": [
    "threeWaysToPrintAString = [print, putStrLn, putStr]\n",
    "\n",
    ":t threeWaysToPrintAString"
   ]
  },
  {
   "cell_type": "markdown",
   "metadata": {},
   "source": [
    "This type signature says essentially that it's a list of functions that take a Showable a and return unit in a some `MonadIO` context, which is just a generalized version of IO (due to `Protolude` again in this case).\n",
    "\n",
    "Now that we have this list of functions we can apply them all to some value:"
   ]
  },
  {
   "cell_type": "code",
   "execution_count": 21,
   "metadata": {},
   "outputs": [
    {
     "data": {
      "text/plain": [
       "\"foo\"\n",
       "foo\n",
       "foo[(),(),()]"
      ]
     },
     "metadata": {},
     "output_type": "display_data"
    }
   ],
   "source": [
    "mapM ($ \"foo\") threeWaysToPrintAString"
   ]
  },
  {
   "cell_type": "markdown",
   "metadata": {},
   "source": [
    "We get the `print`'d version which calls Show on the string adding the quotes, the `putStrLn`'d version which just prints the string followed by a newline, then the `putStr`'d version which prints the string without the newline and then we see the return value of the `mapM` call which collected the three unit values returned by each of the IO actions.\n",
    "\n",
    "Using [MTL style](https://ocharles.org.uk/posts/2016-01-26-transformers-free-monads-mtl-laws.html) you can write more descriptive type signatures that differentiate at a more granular level than just IO vs non-IO.\n",
    "\n",
    "You could imagine a function with a type signature something like this:\n",
    "\n",
    "    fetchUserFromDb :: ( MonadReader DbConn m, MonadReadDb m, MonadLogger m )\n",
    "    \n",
    "This would tell you that the function must be called in a context that provides some sort of configuration containing a `DbConn` value, and that it can query (but not write to) the database, and that it can log messages.  But it can't for example, make a network connection, read or write files on disk, talk to redis or cassandra, etc.\n",
    "\n",
    "One interesting thing to note is that functions which return IO actions and other side effecting types are still pure in Haskell.  Given the same input they will always produce the same IO action -- it's only at runtime when the IO action is executed by the Haskell runtime that different paths will be taken based on the state of the outside world at the time the code is executing."
   ]
  },
  {
   "cell_type": "markdown",
   "metadata": {},
   "source": [
    "## Laziness\n",
    "\n",
    "- BENEFIT: Allows many algorithms to be expressed more naturally\n",
    "- BENEFIT: Simplifies a lot of code (eg throw everything in where clauses and only those that are forced are evaluated)\n",
    "\n",
    "Ran out of time to cover this in depth but an example of how it's useful in Haskell that goes a little beyond our `fibs` example from the introduction is the concept of \"tying the knot\" which lets you build mutually recursive data structures which would otherwise not be possible due to immutability.\n",
    "\n",
    "For example here is a quick doubly linked list:"
   ]
  },
  {
   "cell_type": "code",
   "execution_count": 22,
   "metadata": {},
   "outputs": [
    {
     "data": {
      "text/plain": [
       "[1,2,3,4]"
      ]
     },
     "metadata": {},
     "output_type": "display_data"
    },
    {
     "data": {
      "text/plain": [
       "[1,2,3,4,1,2,3,4,1,2,3,4,1,2,3,4,1,2,3,4]"
      ]
     },
     "metadata": {},
     "output_type": "display_data"
    }
   ],
   "source": [
    "data DubLL a\n",
    "  = Nil\n",
    "  | Node a (DubLL a) (DubLL a)\n",
    "  deriving (Eq, Ord, Read, Show)\n",
    "\n",
    "toList :: DubLL a -> [a]\n",
    "toList Nil = []\n",
    "toList (Node x _ next) = x:toList next\n",
    "\n",
    "-- A finite list with no cycles\n",
    "dubLL :: DubLL Int\n",
    "dubLL = a\n",
    "  where\n",
    "    a = Node 1 Nil b\n",
    "    b = Node 2 a c\n",
    "    c = Node 3 b d\n",
    "    d = Node 4 c Nil\n",
    "\n",
    "-- The same list connected head to tail to form an infinite cycle in both directions\n",
    "cycLL :: DubLL Int\n",
    "cycLL = a\n",
    "  where\n",
    "    a = Node 1 d b\n",
    "    b = Node 2 a c\n",
    "    c = Node 3 b d\n",
    "    d = Node 4 c a\n",
    "    \n",
    "print (take 20 $ toList dubLL)\n",
    "print (take 20 $ toList cycLL)    "
   ]
  },
  {
   "cell_type": "markdown",
   "metadata": {},
   "source": [
    "## Immutability\n",
    "\n",
    "BENEFITS: Local reasoning\n",
    "BENEFITS: A whole (significant) class of errors can no longer be made\n",
    "\n",
    "Immutability is probably the most important thing that I ran out of time to write about in depth, but it's starting to get so popular these days that maybe you've encountered it elsewhere.  If not, hopefully it's obvious how having data that can't change makes it easier to reason about the behavior of your code -- you can pass values you are holding on to to any other function and not worry that they will be changed out from under you.\n",
    "\n",
    "If you haven't encountered it before you might have the obvious question on your mind:\n",
    "\n",
    "### How can you do anything if you can change any values?\n",
    "\n",
    "The short answer is that you create a new copy with the change, so for example:"
   ]
  },
  {
   "cell_type": "code",
   "execution_count": 23,
   "metadata": {},
   "outputs": [
    {
     "data": {
      "text/plain": [
       "[1,2,3,4,5,6,7,8,9,10]"
      ]
     },
     "metadata": {},
     "output_type": "display_data"
    },
    {
     "data": {
      "text/plain": [
       "[2,4,6,8,10]"
      ]
     },
     "metadata": {},
     "output_type": "display_data"
    },
    {
     "data": {
      "text/plain": [
       "[1,2,3,4,5,6,7,8,9,10]"
      ]
     },
     "metadata": {},
     "output_type": "display_data"
    }
   ],
   "source": [
    "xs = [1..10]\n",
    "ys = filter even xs\n",
    "\n",
    "print xs\n",
    "print ys\n",
    "print xs"
   ]
  },
  {
   "cell_type": "markdown",
   "metadata": {},
   "source": [
    "As you can see, the filter operation didn't change `xs`, it just created a new list, `ys`.  \n",
    "\n",
    "Your next question might be:\n",
    "\n",
    "### Isn't making all thoe copies expensive? \n",
    "\n",
    "The short answer is: no.  The slightly longer answer is: No, due to structural sharing in [persistent data structures](https://en.wikipedia.org/wiki/Persistent_data_structure)."
   ]
  },
  {
   "cell_type": "markdown",
   "metadata": {},
   "source": [
    "## Pattern Matching\n",
    "\n",
    "- BENEFIT: Expressiveness\n",
    "- BENEFIT: Allows compiler to alert on missing cases\n",
    "\n",
    "Pattern matching doesn't often get elevated to the level of some of these other features in discussions of the benefits of Haskell but I think it deserves more credit.  Maybe part of the reason is that by default Haskell doesn't force you to handle every case, but everyone that sticks with Haskell eventually enables at least the \"-Wall\" flag which will warn you on an incomplete pattern match if not \"-Werror\" which will force you to handle every case.\n",
    "\n",
    "A specific example of when this benefit mainfests is when you add a new constructor to a sum type -- the compiler will instantly tell you where all of the places that you need to update to handle to the new constructor."
   ]
  },
  {
   "cell_type": "markdown",
   "metadata": {},
   "source": [
    "# Examples\n",
    "\n",
    "## The StreamSource Algebraic Data Type\n",
    "\n",
    "This is a data type I created for a library I was working on to do event sourcing in Haskell.  You can see it [in context here](https://github.com/SuperpowersCorp/dispenser-core/blob/master/src/Dispenser/Types.hs#L105).\n",
    "\n",
    "The basic idea is that you need to be able to select which set of streams you want to read from and you might want to combine several different reads into a single pass over the data.  In order to do this you need to decide the canonical set of streams that you need to read from to get all of the data you need for any of the individual reads.\n",
    "\n",
    "As long as each individual read requires data from a specific set of streams then a `Set` of stream names is a good way to represent what you need, but as soon as one of the reads requires reading from all streams then it no longer matters what specific streams any of the other reads requires, you're going to have to fetch all of the data anyway.\n",
    "\n",
    "In another language I might be tempted to do something like use a set of stream names, and as you're building up the full set to read from if you ever get an empty set, treat this as a special sigil value that indicates that the read needs events from all streams in which case discard the current set and just hold the empty set as that sigil value, then as you add each additional stream source, check and see if the current set is empty in which case just discard the new ones, and if it's not then union them in.. the logic might look something like this pseudo code:\n",
    "\n",
    "    sources = ...\n",
    "    finalSource = sources.first()\n",
    "    \n",
    "    // empty set indicates \"all streams\" so if we encounter an empty set at any point everything becomes\n",
    "    // an empty set\n",
    "    for source in sources.rest():\n",
    "      if (finalSource.empty() || source.empty()) {\n",
    "        finalSource = emptySet()\n",
    "      } else {\n",
    "        finalSource = finalSource.union(source)\n",
    "      }\n",
    "      \n",
    "    if (finalSource.empty()) {\n",
    "      return readAllEvents()\n",
    "    } else {\n",
    "      return readEventsFrom(finalSource.toList())\n",
    "    }\n",
    "    \n",
    "This really isn't that hard to write, test and debug... but presumably it's implemented once somewhere in a function exposed from some API somewhere called something like \"readEventsFromSources\"...\n",
    "\n",
    "The algebraic approach in Haskell was:"
   ]
  },
  {
   "cell_type": "code",
   "execution_count": 24,
   "metadata": {},
   "outputs": [],
   "source": [
    ":ext DeriveDataTypeable\n",
    ":ext DeriveGeneric\n",
    "\n",
    "import           Data.Data              ( Data )\n",
    "import qualified Data.Set       as Set\n",
    "import qualified Data.Semigroup as Semi\n",
    "import           Data.Zero      \n",
    "\n",
    "newtype StreamName = StreamName { unStreamName :: Text }\n",
    "  deriving (Data, Eq, Generic, Ord, Read, Show)\n",
    "\n",
    "data StreamSource\n",
    "  = AllStreams\n",
    "  | SomeStreams (Set StreamName)\n",
    "  deriving (Data, Eq, Generic, Ord, Read, Show)\n",
    "\n",
    "instance Semigroup StreamSource where\n",
    "  SomeStreams a <> SomeStreams b = SomeStreams (a <> b)\n",
    "  AllStreams    <> _             = AllStreams\n",
    "  _             <> AllStreams    = AllStreams\n",
    "\n",
    "instance Monoid StreamSource where\n",
    "  mempty = SomeStreams mempty\n",
    "  mappend = (Semi.<>)\n",
    "  \n",
    "instance Zero StreamSource where\n",
    "  zero = AllStreams"
   ]
  },
  {
   "cell_type": "markdown",
   "metadata": {},
   "source": [
    "Everything used to build this comes with Haskell except for the `Zero` class and it's `zero` function which are from the [zero](http://hackage.haskell.org/package/zero-0.1.4/docs/Data-Zero.html) package which implements \"Semigroups with absorbing element\".  Haskell already has Semigroups as we covered in the second part (which, as a reminder, just means any type that has a binary operation that allows you to combine any two elements of the type to get a new element of the type) so really all the `zero` package adds is the notion of an absorbing element, which is exactly what we want for our `AllStreams` case.\n",
    "\n",
    "This allows us to smush any to `StreamSource`s together at any point in our program (not just when we call a specific `readEventsFromSources` function) and wind up with a new single valid `StreamSource` that describes what we want:"
   ]
  },
  {
   "cell_type": "code",
   "execution_count": 25,
   "metadata": {},
   "outputs": [
    {
     "data": {
      "text/plain": [
       "SomeStreams (fromList [StreamName {unStreamName = \"a\"},StreamName {unStreamName = \"b\"},StreamName {unStreamName = \"c\"}])"
      ]
     },
     "metadata": {},
     "output_type": "display_data"
    },
    {
     "data": {
      "text/plain": [
       "SomeStreams (fromList [StreamName {unStreamName = \"d\"},StreamName {unStreamName = \"e\"},StreamName {unStreamName = \"f\"}])"
      ]
     },
     "metadata": {},
     "output_type": "display_data"
    },
    {
     "data": {
      "text/plain": [
       "SomeStreams (fromList [StreamName {unStreamName = \"a\"},StreamName {unStreamName = \"b\"},StreamName {unStreamName = \"c\"},StreamName {unStreamName = \"d\"},StreamName {unStreamName = \"e\"},StreamName {unStreamName = \"f\"}])"
      ]
     },
     "metadata": {},
     "output_type": "display_data"
    },
    {
     "data": {
      "text/plain": [
       "SomeStreams (fromList [StreamName {unStreamName = \"a\"},StreamName {unStreamName = \"b\"},StreamName {unStreamName = \"c\"},StreamName {unStreamName = \"d\"},StreamName {unStreamName = \"e\"},StreamName {unStreamName = \"f\"}])"
      ]
     },
     "metadata": {},
     "output_type": "display_data"
    },
    {
     "data": {
      "text/plain": [
       "AllStreams"
      ]
     },
     "metadata": {},
     "output_type": "display_data"
    },
    {
     "data": {
      "text/plain": [
       "AllStreams"
      ]
     },
     "metadata": {},
     "output_type": "display_data"
    },
    {
     "data": {
      "text/plain": [
       "AllStreams"
      ]
     },
     "metadata": {},
     "output_type": "display_data"
    },
    {
     "data": {
      "text/plain": [
       "AllStreams"
      ]
     },
     "metadata": {},
     "output_type": "display_data"
    }
   ],
   "source": [
    ":ext OverloadedStrings\n",
    "\n",
    "abcStreams = SomeStreams (Set.fromList . map StreamName $ [\"a\", \"b\", \"c\"])\n",
    "defStreams = SomeStreams (Set.fromList . map StreamName $ [\"d\", \"e\", \"f\"])\n",
    "\n",
    "print abcStreams\n",
    "print defStreams\n",
    "print (abcStreams <> defStreams)\n",
    "print (abcStreams <> defStreams <> abcStreams <> abcStreams <> defStreams <> defStreams)\n",
    "print AllStreams\n",
    "print (AllStreams <> abcStreams)\n",
    "print (defStreams <> AllStreams)\n",
    "print (abcStreams <> AllStreams <> defStreams)"
   ]
  },
  {
   "cell_type": "markdown",
   "metadata": {},
   "source": [
    "We utilize [QuickCheck tests here](https://github.com/SuperpowersCorp/dispenser-core/blob/master/test/TypesSpec.hs#L13) to validate that the laws for Monoid (which encompass the laws for Semigroup) as well as the laws for Zero hold for our type.  (We could take this even further in Idris and write a proof that they always hold rather than just testing on 100 or 1000 cases).\n",
    "\n",
    "We end up (via a very small amount of code) with a type which is guaranteed to be correct by construction -- you can stil make logical errors like trying to read from the wrong stream and of course you might make a typo in a stream name but you no longer have to worry about users trying to implement all the logic to make sure they handle empty sets properly any time they combine stream sources outside of your special `readEventsFromSources` function."
   ]
  },
  {
   "cell_type": "markdown",
   "metadata": {},
   "source": [
    "## Fun with Optics (Lenses)\n",
    "\n",
    "A thorough review of everything interesting about lenses would be way to long for this already way too long notebook, so I'll sum them up by saying that they are basically getter/setters on steroids.\n",
    "\n",
    "The getter/setter part is most obvious when applied to record types like we have seen before:"
   ]
  },
  {
   "cell_type": "code",
   "execution_count": 26,
   "metadata": {},
   "outputs": [],
   "source": [
    "import Control.Lens ( (^.)\n",
    "                    , (^..)\n",
    "                    , (.~)\n",
    "                    , (%~)\n",
    "                    , (+~)\n",
    "                    , (*~)\n",
    "                    , (^?)\n",
    "                    , _1\n",
    "                    , _2\n",
    "                    , _3\n",
    "                    , _4\n",
    "                    , _Just\n",
    "                    , _Nothing\n",
    "                    , _head\n",
    "                    , Iso'\n",
    "                    , Lens'\n",
    "                    , Prism'\n",
    "                    , Traversal' \n",
    "                    , allOf\n",
    "                    , each\n",
    "                    , filtered\n",
    "                    , indices\n",
    "                    , iso\n",
    "                    , itraversed\n",
    "                    , ix\n",
    "                    , lens\n",
    "                    , over\n",
    "                    , partsOf\n",
    "                    , prism\n",
    "                    , re\n",
    "                    , set\n",
    "                    , traversed\n",
    "                    , view\n",
    "                    )\n",
    "import Data.Data.Lens ( biplate )                    "
   ]
  },
  {
   "cell_type": "code",
   "execution_count": 27,
   "metadata": {},
   "outputs": [],
   "source": [
    "data Profile = Profile\n",
    "  { _username    :: Text\n",
    "  , _friendCount :: Int\n",
    "  , _enemyCount  :: Int\n",
    "  , _address     :: Address\n",
    "  } deriving (Data, Eq, Generic, Ord, Read, Show)\n",
    "  \n",
    "data Address = Address\n",
    "  { _street  :: Text\n",
    "  , _poBox   :: Maybe Int  -- You shouldn't use Int's for P.O. Boxes or Zip Codes, but makes for a better demo\n",
    "  , _city    :: Text\n",
    "  , _state   :: Text\n",
    "  , _zipCode :: Int       \n",
    "  } deriving (Data, Eq, Generic, Ord, Read, Show)\n",
    "  \n",
    "-- Normally we would use TemplateHaskell to generate all of these for us, but TemplateHaskell doesn't work\n",
    "-- in notebooks yet, so for this example we will write them out by hand.  The TemplateHaskell version would\n",
    "-- look like this:\n",
    "--\n",
    "-- makeLenses ''Profile\n",
    "-- makeLenses ''Address\n",
    "-- \n",
    "-- and would generate all of these for us:\n",
    "  \n",
    "username :: Lens' Profile Text \n",
    "username = lens _username (\\profile un -> profile { _username = un })\n",
    "\n",
    "friendCount :: Lens' Profile Int\n",
    "friendCount = lens _friendCount (\\profile fc -> profile { _friendCount = fc })\n",
    "\n",
    "enemyCount :: Lens' Profile Int\n",
    "enemyCount = lens _enemyCount (\\profile ec -> profile { _enemyCount = ec })\n",
    "\n",
    "address :: Lens' Profile Address\n",
    "address = lens _address (\\profile ad -> profile { _address = ad})\n",
    "\n",
    "street :: Lens' Address Text\n",
    "street = lens _street (\\address st -> address { _street = st })\n",
    "\n",
    "poBox :: Lens' Address (Maybe Int)\n",
    "poBox = lens _poBox (\\address po -> address { _poBox = po })\n",
    "\n",
    "city :: Lens' Address Text\n",
    "city = lens _city (\\address ci -> address { _city = ci })\n",
    "\n",
    "state :: Lens' Address Text\n",
    "state = lens _state (\\address st -> address { _state = st })\n",
    "\n",
    "-- I'm going to leave the lense for zipCode out to demonstrate that biplate will still target it below."
   ]
  },
  {
   "cell_type": "markdown",
   "metadata": {},
   "source": [
    "With lenses in hand we can use them as simple traditional getter/setters:"
   ]
  },
  {
   "cell_type": "code",
   "execution_count": 28,
   "metadata": {},
   "outputs": [
    {
     "data": {
      "text/plain": [
       "Profile {_username = \"john\", _friendCount = 5, _enemyCount = 0, _address = Address {_street = \"4040 N. Fairfax Drive\", _poBox = Just 123, _city = \"Arlington\", _state = \"VA\", _zipCode = 22203}}"
      ]
     },
     "metadata": {},
     "output_type": "display_data"
    }
   ],
   "source": [
    "prof = Profile \"john\" 5 0 (Address \"4040 N. Fairfax Drive\" (Just 123) \"Arlington\" \"VA\" 22203)\n",
    "prof"
   ]
  },
  {
   "cell_type": "code",
   "execution_count": 29,
   "metadata": {},
   "outputs": [
    {
     "data": {
      "text/plain": [
       "john"
      ]
     },
     "metadata": {},
     "output_type": "display_data"
    }
   ],
   "source": [
    "prof ^. username"
   ]
  },
  {
   "cell_type": "code",
   "execution_count": 30,
   "metadata": {},
   "outputs": [
    {
     "data": {
      "text/plain": [
       "5"
      ]
     },
     "metadata": {},
     "output_type": "display_data"
    }
   ],
   "source": [
    "prof ^. friendCount"
   ]
  },
  {
   "cell_type": "code",
   "execution_count": 31,
   "metadata": {},
   "outputs": [
    {
     "data": {
      "text/plain": [
       "0"
      ]
     },
     "metadata": {},
     "output_type": "display_data"
    }
   ],
   "source": [
    "prof ^. enemyCount"
   ]
  },
  {
   "cell_type": "code",
   "execution_count": 32,
   "metadata": {},
   "outputs": [
    {
     "data": {
      "text/plain": [
       "Address {_street = \"4040 N. Fairfax Drive\", _poBox = Just 123, _city = \"Arlington\", _state = \"VA\", _zipCode = 22203}"
      ]
     },
     "metadata": {},
     "output_type": "display_data"
    }
   ],
   "source": [
    "let ad = prof ^. address\n",
    "\n",
    "ad"
   ]
  },
  {
   "cell_type": "code",
   "execution_count": 33,
   "metadata": {},
   "outputs": [
    {
     "data": {
      "text/plain": [
       "4040 N. Fairfax Drive"
      ]
     },
     "metadata": {},
     "output_type": "display_data"
    }
   ],
   "source": [
    "ad ^. street"
   ]
  },
  {
   "cell_type": "code",
   "execution_count": 34,
   "metadata": {},
   "outputs": [
    {
     "data": {
      "text/plain": [
       "Just 123"
      ]
     },
     "metadata": {},
     "output_type": "display_data"
    }
   ],
   "source": [
    "ad ^. poBox"
   ]
  },
  {
   "cell_type": "markdown",
   "metadata": {},
   "source": [
    "NB. Since poBox is of type `Maybe Int` we get back a `Maybe Int` here, hence the `Just` constructor.  We will see in the section below on setters how we can use prisms to deal with just the values that are present (or not present)."
   ]
  },
  {
   "cell_type": "code",
   "execution_count": 35,
   "metadata": {},
   "outputs": [
    {
     "data": {
      "text/plain": [
       "Arlington"
      ]
     },
     "metadata": {},
     "output_type": "display_data"
    }
   ],
   "source": [
    "ad ^. city"
   ]
  },
  {
   "cell_type": "markdown",
   "metadata": {},
   "source": [
    "And so on... likewise for setters:"
   ]
  },
  {
   "cell_type": "code",
   "execution_count": 36,
   "metadata": {},
   "outputs": [
    {
     "data": {
      "text/plain": [
       "Profile {_username = \"jake\", _friendCount = 5, _enemyCount = 0, _address = Address {_street = \"4040 N. Fairfax Drive\", _poBox = Just 123, _city = \"Arlington\", _state = \"VA\", _zipCode = 22203}}"
      ]
     },
     "metadata": {},
     "output_type": "display_data"
    }
   ],
   "source": [
    "prof & username .~ \"jake\""
   ]
  },
  {
   "cell_type": "code",
   "execution_count": 37,
   "metadata": {},
   "outputs": [
    {
     "data": {
      "text/plain": [
       "Profile {_username = \"john\", _friendCount = 100, _enemyCount = 0, _address = Address {_street = \"4040 N. Fairfax Drive\", _poBox = Just 123, _city = \"Arlington\", _state = \"VA\", _zipCode = 22203}}"
      ]
     },
     "metadata": {},
     "output_type": "display_data"
    }
   ],
   "source": [
    "prof & friendCount .~ 100"
   ]
  },
  {
   "cell_type": "code",
   "execution_count": 38,
   "metadata": {},
   "outputs": [
    {
     "data": {
      "text/plain": [
       "Address {_street = \"123 Main Street\", _poBox = Just 123, _city = \"Arlington\", _state = \"VA\", _zipCode = 22203}"
      ]
     },
     "metadata": {},
     "output_type": "display_data"
    }
   ],
   "source": [
    "ad & street .~ \"123 Main Street\""
   ]
  },
  {
   "cell_type": "markdown",
   "metadata": {},
   "source": [
    "As we mentioned above, when dealing with optional (`Maybe`) values (or any other vlaue that may or may not be there, such as `Either` values which are often used to hold either a valid value of one type or an error value of another type):"
   ]
  },
  {
   "cell_type": "code",
   "execution_count": 39,
   "metadata": {},
   "outputs": [
    {
     "data": {
      "text/plain": [
       "Address {_street = \"4040 N. Fairfax Drive\", _poBox = Just 123, _city = \"Arlington\", _state = \"VA\", _zipCode = 22203}"
      ]
     },
     "metadata": {},
     "output_type": "display_data"
    },
    {
     "data": {
      "text/plain": [
       "Address {_street = \"4040 N. Fairfax Drive\", _poBox = Nothing, _city = \"Arlington\", _state = \"VA\", _zipCode = 22203}"
      ]
     },
     "metadata": {},
     "output_type": "display_data"
    }
   ],
   "source": [
    "-- Let's remind ourselves what our address looks like:\n",
    "print ad\n",
    "\n",
    "-- And create a copy with no poBox:\n",
    "noPoAd = ad & poBox .~ Nothing\n",
    "\n",
    "print noPoAd"
   ]
  },
  {
   "cell_type": "markdown",
   "metadata": {},
   "source": [
    "Now we can use the `_Just` prism to address just the cases where the value is present:"
   ]
  },
  {
   "cell_type": "code",
   "execution_count": 40,
   "metadata": {},
   "outputs": [
    {
     "data": {
      "text/plain": [
       "Address {_street = \"4040 N. Fairfax Drive\", _poBox = Just 123, _city = \"Arlington\", _state = \"VA\", _zipCode = 22203}"
      ]
     },
     "metadata": {},
     "output_type": "display_data"
    },
    {
     "data": {
      "text/plain": [
       "Address {_street = \"4040 N. Fairfax Drive\", _poBox = Nothing, _city = \"Arlington\", _state = \"VA\", _zipCode = 22203}"
      ]
     },
     "metadata": {},
     "output_type": "display_data"
    }
   ],
   "source": [
    "print $ ad     & poBox . _Just .~ 123\n",
    "print $ noPoAd & poBox . _Just .~ 12345"
   ]
  },
  {
   "cell_type": "markdown",
   "metadata": {},
   "source": [
    "There is a corresponding `_Nothing` prism but sadly it doesn't quite do what you might hope and let you address the case where the value is not present.  There are various alternatives for this some of which are more or less helpful in various situations, for example `filtered` is helpful in this situation:"
   ]
  },
  {
   "cell_type": "code",
   "execution_count": 41,
   "metadata": {},
   "outputs": [
    {
     "data": {
      "text/plain": [
       "Address {_street = \"4040 N. Fairfax Drive\", _poBox = Just 123, _city = \"Arlington\", _state = \"VA\", _zipCode = 22203}"
      ]
     },
     "metadata": {},
     "output_type": "display_data"
    },
    {
     "data": {
      "text/plain": [
       "Address {_street = \"4040 N. Fairfax Drive\", _poBox = Just 5, _city = \"Arlington\", _state = \"VA\", _zipCode = 22203}"
      ]
     },
     "metadata": {},
     "output_type": "display_data"
    },
    {
     "data": {
      "text/plain": [
       "Address {_street = \"4040 N. Fairfax Drive\", _poBox = Just 5, _city = \"Arlington\", _state = \"VA\", _zipCode = 22203}"
      ]
     },
     "metadata": {},
     "output_type": "display_data"
    },
    {
     "data": {
      "text/plain": [
       "Address {_street = \"4040 N. Fairfax Drive\", _poBox = Nothing, _city = \"Arlington\", _state = \"VA\", _zipCode = 22203}"
      ]
     },
     "metadata": {},
     "output_type": "display_data"
    }
   ],
   "source": [
    "print $ ad     & poBox . filtered null .~ Just 5\n",
    "print $ noPoAd & poBox . filtered null .~ Just 5\n",
    "print $ ad     & poBox . filtered (not . null) .~ Just 5\n",
    "print $ noPoAd & poBox . filtered (not . null) .~ Just 5"
   ]
  },
  {
   "cell_type": "code",
   "execution_count": 42,
   "metadata": {},
   "outputs": [
    {
     "data": {
      "text/plain": [
       "Address {_street = \"4040 N. Fairfax Drive\", _poBox = Just 123, _city = \"Washington\", _state = \"DC\", _zipCode = 22203}"
      ]
     },
     "metadata": {},
     "output_type": "display_data"
    }
   ],
   "source": [
    "-- We can set also several fields at once...\n",
    "ad & city    .~ \"Washington\"\n",
    "   & state   .~ \"DC\""
   ]
  },
  {
   "cell_type": "markdown",
   "metadata": {},
   "source": [
    "But we can also use other lens operators to perform specific types of modifications, for example instead of directly setting a field we can apply functions to modify them:"
   ]
  },
  {
   "cell_type": "code",
   "execution_count": 43,
   "metadata": {},
   "outputs": [
    {
     "data": {
      "text/plain": [
       "Profile {_username = \"nhoj\", _friendCount = 5, _enemyCount = 0, _address = Address {_street = \"4040 N. Fairfax Drive\", _poBox = Just 123, _city = \"Arlington\", _state = \"VA\", _zipCode = 22203}}"
      ]
     },
     "metadata": {},
     "output_type": "display_data"
    },
    {
     "data": {
      "text/plain": [
       "Profile {_username = \"JOHN\", _friendCount = 5, _enemyCount = 0, _address = Address {_street = \"4040 N. Fairfax Drive\", _poBox = Just 123, _city = \"Arlington\", _state = \"VA\", _zipCode = 22203}}"
      ]
     },
     "metadata": {},
     "output_type": "display_data"
    }
   ],
   "source": [
    "import qualified Data.Text as T\n",
    "\n",
    "print $ prof & username %~ T.reverse\n",
    "print $ prof & username %~ T.toUpper"
   ]
  },
  {
   "cell_type": "markdown",
   "metadata": {},
   "source": [
    "Or use mathematical operations to manipulate numbers directly:"
   ]
  },
  {
   "cell_type": "code",
   "execution_count": 44,
   "metadata": {},
   "outputs": [
    {
     "data": {
      "text/plain": [
       "Profile {_username = \"john\", _friendCount = 15, _enemyCount = 0, _address = Address {_street = \"4040 N. Fairfax Drive\", _poBox = Just 123, _city = \"Arlington\", _state = \"VA\", _zipCode = 22203}}"
      ]
     },
     "metadata": {},
     "output_type": "display_data"
    },
    {
     "data": {
      "text/plain": [
       "Profile {_username = \"john\", _friendCount = 50, _enemyCount = 0, _address = Address {_street = \"4040 N. Fairfax Drive\", _poBox = Just 123, _city = \"Arlington\", _state = \"VA\", _zipCode = 22203}}"
      ]
     },
     "metadata": {},
     "output_type": "display_data"
    }
   ],
   "source": [
    "print $ prof & friendCount +~ 10\n",
    "print $ prof & friendCount *~ 10"
   ]
  },
  {
   "cell_type": "markdown",
   "metadata": {},
   "source": [
    "And at the end of the day lenses are just functions and functions compose, so lenses compose:"
   ]
  },
  {
   "cell_type": "code",
   "execution_count": 45,
   "metadata": {},
   "outputs": [
    {
     "data": {
      "text/plain": [
       "Profile {_username = \"john\", _friendCount = 5, _enemyCount = 0, _address = Address {_street = \"4040 N. Fairfax Drive\", _poBox = Just 123, _city = \"ARLINGTON\", _state = \"VA\", _zipCode = 22203}}"
      ]
     },
     "metadata": {},
     "output_type": "display_data"
    },
    {
     "data": {
      "text/plain": [
       "Profile {_username = \"john\", _friendCount = 5, _enemyCount = 0, _address = Address {_street = \"evirD xafriaF .N 0404\", _poBox = Just 123, _city = \"Arlington\", _state = \"VA\", _zipCode = 22203}}"
      ]
     },
     "metadata": {},
     "output_type": "display_data"
    }
   ],
   "source": [
    "print $ prof & address . city   %~ T.toUpper\n",
    "print $ prof & address . street %~ T.reverse"
   ]
  },
  {
   "cell_type": "markdown",
   "metadata": {},
   "source": [
    "There are also regular function versions of each of the operators, which are often used with higher order functions or other places where they read more naturally than operator soup:"
   ]
  },
  {
   "cell_type": "code",
   "execution_count": 46,
   "metadata": {},
   "outputs": [
    {
     "data": {
      "text/plain": [
       "\"john\""
      ]
     },
     "metadata": {},
     "output_type": "display_data"
    },
    {
     "data": {
      "text/plain": [
       "\"john\""
      ]
     },
     "metadata": {},
     "output_type": "display_data"
    }
   ],
   "source": [
    "print $ prof ^. username\n",
    "print $ view username prof"
   ]
  },
  {
   "cell_type": "code",
   "execution_count": 47,
   "metadata": {},
   "outputs": [
    {
     "data": {
      "text/plain": [
       "Profile {_username = \"Jake\", _friendCount = 5, _enemyCount = 0, _address = Address {_street = \"4040 N. Fairfax Drive\", _poBox = Just 123, _city = \"Arlington\", _state = \"VA\", _zipCode = 22203}}"
      ]
     },
     "metadata": {},
     "output_type": "display_data"
    },
    {
     "data": {
      "text/plain": [
       "Profile {_username = \"Jake\", _friendCount = 5, _enemyCount = 0, _address = Address {_street = \"4040 N. Fairfax Drive\", _poBox = Just 123, _city = \"Arlington\", _state = \"VA\", _zipCode = 22203}}"
      ]
     },
     "metadata": {},
     "output_type": "display_data"
    }
   ],
   "source": [
    "print $ prof & username .~ \"Jake\"\n",
    "print $ set username \"Jake\" prof"
   ]
  },
  {
   "cell_type": "code",
   "execution_count": 48,
   "metadata": {},
   "outputs": [
    {
     "data": {
      "text/plain": [
       "Profile {_username = \"JOHN\", _friendCount = 5, _enemyCount = 0, _address = Address {_street = \"4040 N. Fairfax Drive\", _poBox = Just 123, _city = \"Arlington\", _state = \"VA\", _zipCode = 22203}}"
      ]
     },
     "metadata": {},
     "output_type": "display_data"
    },
    {
     "data": {
      "text/plain": [
       "Profile {_username = \"JOHN\", _friendCount = 5, _enemyCount = 0, _address = Address {_street = \"4040 N. Fairfax Drive\", _poBox = Just 123, _city = \"Arlington\", _state = \"VA\", _zipCode = 22203}}"
      ]
     },
     "metadata": {},
     "output_type": "display_data"
    }
   ],
   "source": [
    "print $ prof & username %~ T.toUpper\n",
    "print $ over username T.toUpper prof"
   ]
  },
  {
   "cell_type": "markdown",
   "metadata": {},
   "source": [
    "I don't think there is an operatorless way to replace the mathy operators like `+~` and `*~` but you can use `over` with sections to get by:"
   ]
  },
  {
   "cell_type": "code",
   "execution_count": 49,
   "metadata": {},
   "outputs": [
    {
     "data": {
      "text/plain": [
       "Profile {_username = \"john\", _friendCount = 17, _enemyCount = 0, _address = Address {_street = \"4040 N. Fairfax Drive\", _poBox = Just 123, _city = \"Arlington\", _state = \"VA\", _zipCode = 22203}}"
      ]
     },
     "metadata": {},
     "output_type": "display_data"
    },
    {
     "data": {
      "text/plain": [
       "Profile {_username = \"john\", _friendCount = 17, _enemyCount = 0, _address = Address {_street = \"4040 N. Fairfax Drive\", _poBox = Just 123, _city = \"Arlington\", _state = \"VA\", _zipCode = 22203}}"
      ]
     },
     "metadata": {},
     "output_type": "display_data"
    }
   ],
   "source": [
    "print $ prof & friendCount +~ 12\n",
    "print $ over friendCount (+12) prof"
   ]
  },
  {
   "cell_type": "markdown",
   "metadata": {},
   "source": [
    "More interestingly we can have lenses that use the `Data` and `Generic` classes that we derived when we created our data types to operate in a generic way on all values of a certain type:"
   ]
  },
  {
   "cell_type": "code",
   "execution_count": 50,
   "metadata": {},
   "outputs": [
    {
     "data": {
      "text/plain": [
       "Profile {_username = \"NHOJ\", _friendCount = 5, _enemyCount = 0, _address = Address {_street = \"EVIRD XAFRIAF .N 0404\", _poBox = Just 123, _city = \"NOTGNILRA\", _state = \"AV\", _zipCode = 22203}}"
      ]
     },
     "metadata": {},
     "output_type": "display_data"
    }
   ],
   "source": [
    "prof & biplate %~ (T.toUpper . T.reverse)"
   ]
  },
  {
   "cell_type": "code",
   "execution_count": 51,
   "metadata": {},
   "outputs": [
    {
     "data": {
      "text/plain": [
       "Profile {_username = \"john\", _friendCount = 165, _enemyCount = 0, _address = Address {_street = \"4040 N. Fairfax Drive\", _poBox = Just 4059, _city = \"Arlington\", _state = \"VA\", _zipCode = 732699}}"
      ]
     },
     "metadata": {},
     "output_type": "display_data"
    }
   ],
   "source": [
    "prof & (biplate :: Data a => Traversal' a Int) *~ 33 \n",
    "\n",
    "-- Not sure why I had to give the type signature here... even if this were always necessary,\n",
    "-- for bigger more complicated examples this type signature is a relatively minor cost"
   ]
  },
  {
   "cell_type": "markdown",
   "metadata": {},
   "source": [
    "As the type signature above says, the particular type of optic being employed by `biplate` is a `Traversal` and traversals also allow us to get multiple values as well (by adding an extra `.` to our `^.` operator) and specifying the type (this isn't always necessary if we are composing `biplate` with other lenses that determine the types):"
   ]
  },
  {
   "cell_type": "code",
   "execution_count": 52,
   "metadata": {},
   "outputs": [
    {
     "data": {
      "text/plain": [
       "[5,0,123,22203]"
      ]
     },
     "metadata": {},
     "output_type": "display_data"
    }
   ],
   "source": [
    "prof ^.. (biplate :: Data a => Traversal' a Int)"
   ]
  },
  {
   "cell_type": "markdown",
   "metadata": {},
   "source": [
    "This is all of the ints from our structure: `friendCount`, `enemyCount`, `poBox` and `zipCode`.\n",
    "\n",
    "Here is a (rather trivial) example where it's not necessary to specify the types:"
   ]
  },
  {
   "cell_type": "code",
   "execution_count": 53,
   "metadata": {},
   "outputs": [
    {
     "data": {
      "text/plain": [
       "4040 N. Fairfax Drive"
      ]
     },
     "metadata": {},
     "output_type": "display_data"
    }
   ],
   "source": [
    "prof ^.. biplate . street"
   ]
  },
  {
   "cell_type": "markdown",
   "metadata": {},
   "source": [
    "While this example is trivial it will work across any deeply nested structure.\n",
    "\n",
    "For example:"
   ]
  },
  {
   "cell_type": "code",
   "execution_count": 54,
   "metadata": {},
   "outputs": [
    {
     "data": {
      "text/plain": [
       "(\"foo\",100,[(\"bar\",[(200,('a',300))]),(\"baz\",[(400,('b',500))])])"
      ]
     },
     "metadata": {},
     "output_type": "display_data"
    }
   ],
   "source": [
    "(\"foo\", 1, [(\"bar\", [(2, ('a', 3))]), (\"baz\", [(4,('b', 5))])]) & biplate *~ 100"
   ]
  },
  {
   "cell_type": "markdown",
   "metadata": {},
   "source": [
    "NB. The `biplate` examples do not depend on the existence of the lenses we created, it would target the same parts of the structure even if we had not created any lenses manually.  It's purely based on what it can tell about the structure from `Data` class implementations."
   ]
  },
  {
   "cell_type": "markdown",
   "metadata": {},
   "source": [
    "\n",
    "So we've seen some ways in which lenses are at least a bit more powerful than regular getter/setters but as long as you make sure your various optics follow the lens laws, which are these:\n",
    "\n",
    "- Get-Put: If you modify something by changing its subpart to exactly what it was before... then nothing happens\n",
    "- Put-Get: If you modify something by inserting a particular subpart and then viewing the result... you'll get back exactly that subpart\n",
    "- Put-Put: If you modify something by inserting a particular subpart a, and then modify it again inserting a different subpart b... it's exactly as if you only did the second step.\n",
    "\n",
    "then you will have what are called \"very well behaved\" lenses and they can do all sorts of interesting things.\n",
    "\n",
    "Here's a quick runthrough of some of the possibilities:"
   ]
  },
  {
   "cell_type": "code",
   "execution_count": 55,
   "metadata": {},
   "outputs": [],
   "source": [
    "import Numeric.Lens (base, hex, octal)"
   ]
  },
  {
   "cell_type": "code",
   "execution_count": 56,
   "metadata": {},
   "outputs": [
    {
     "data": {
      "text/plain": [
       "Just 256"
      ]
     },
     "metadata": {},
     "output_type": "display_data"
    }
   ],
   "source": [
    "\"100\" ^? base 16"
   ]
  },
  {
   "cell_type": "code",
   "execution_count": 57,
   "metadata": {},
   "outputs": [
    {
     "data": {
      "text/plain": [
       "Just 256"
      ]
     },
     "metadata": {},
     "output_type": "display_data"
    }
   ],
   "source": [
    "\"100\" ^? hex"
   ]
  },
  {
   "cell_type": "code",
   "execution_count": 58,
   "metadata": {},
   "outputs": [
    {
     "data": {
      "text/plain": [
       "Just 64"
      ]
     },
     "metadata": {},
     "output_type": "display_data"
    }
   ],
   "source": [
    "\"100\" ^? octal"
   ]
  },
  {
   "cell_type": "code",
   "execution_count": 59,
   "metadata": {},
   "outputs": [
    {
     "data": {
      "text/plain": [
       "Just 4"
      ]
     },
     "metadata": {},
     "output_type": "display_data"
    }
   ],
   "source": [
    "\"100\" ^? base 2"
   ]
  },
  {
   "cell_type": "code",
   "execution_count": 60,
   "metadata": {},
   "outputs": [
    {
     "data": {
      "text/plain": [
       "Just 100"
      ]
     },
     "metadata": {},
     "output_type": "display_data"
    }
   ],
   "source": [
    "\"100\" ^? base 10"
   ]
  },
  {
   "cell_type": "code",
   "execution_count": 61,
   "metadata": {},
   "outputs": [
    {
     "data": {
      "text/plain": [
       "\"helloworld\""
      ]
     },
     "metadata": {},
     "output_type": "display_data"
    }
   ],
   "source": [
    "1767707668033969 ^. re (base 36)"
   ]
  },
  {
   "cell_type": "code",
   "execution_count": 62,
   "metadata": {},
   "outputs": [],
   "source": [
    "absVal :: Real a => Lens' a a\n",
    "absVal = lens get set\n",
    "  where\n",
    "    get     = abs\n",
    "    set n x = signum n * x"
   ]
  },
  {
   "cell_type": "code",
   "execution_count": 63,
   "metadata": {},
   "outputs": [
    {
     "data": {
      "text/plain": [
       "[5,5,3,3,-4,10,-10]"
      ]
     },
     "metadata": {},
     "output_type": "display_data"
    }
   ],
   "source": [
    "[    5   ^. absVal\n",
    " , (-5)  ^. absVal\n",
    " ,   3   ^. absVal\n",
    " , (-3)  ^. absVal\n",
    " , (-8)   & absVal .~ 4\n",
    " ,   5    & absVal %~ (*2)\n",
    " , (-5)   & absVal %~ (*2)\n",
    " ]"
   ]
  },
  {
   "cell_type": "code",
   "execution_count": 64,
   "metadata": {},
   "outputs": [],
   "source": [
    "import qualified Data.Digits as DD\n",
    "\n",
    "toDigits   = DD.digits   10\n",
    "fromDigits = DD.unDigits 10\n",
    "                 \n",
    "digits :: Iso' Integer [Integer]\n",
    "digits = iso toDigits fromDigits"
   ]
  },
  {
   "cell_type": "code",
   "execution_count": 65,
   "metadata": {},
   "outputs": [
    {
     "data": {
      "text/plain": [
       "[1,2,3,4,5,6]"
      ]
     },
     "metadata": {},
     "output_type": "display_data"
    }
   ],
   "source": [
    "toDigits 123456"
   ]
  },
  {
   "cell_type": "code",
   "execution_count": 66,
   "metadata": {},
   "outputs": [
    {
     "data": {
      "text/plain": [
       "123"
      ]
     },
     "metadata": {},
     "output_type": "display_data"
    }
   ],
   "source": [
    "fromDigits [1,2,3]"
   ]
  },
  {
   "cell_type": "code",
   "execution_count": 67,
   "metadata": {},
   "outputs": [
    {
     "data": {
      "text/plain": [
       "11725"
      ]
     },
     "metadata": {},
     "output_type": "display_data"
    }
   ],
   "source": [
    "fromDigits [10, 15, 20, 25]"
   ]
  },
  {
   "cell_type": "code",
   "execution_count": 68,
   "metadata": {},
   "outputs": [
    {
     "data": {
      "text/plain": [
       "[8,6,7,5,3,0,9]"
      ]
     },
     "metadata": {},
     "output_type": "display_data"
    }
   ],
   "source": [
    "8675309 ^. digits"
   ]
  },
  {
   "cell_type": "code",
   "execution_count": 69,
   "metadata": {},
   "outputs": [
    {
     "data": {
      "text/plain": [
       "9999999"
      ]
     },
     "metadata": {},
     "output_type": "display_data"
    }
   ],
   "source": [
    "8675309 & digits . each .~ 9"
   ]
  },
  {
   "cell_type": "code",
   "execution_count": 70,
   "metadata": {},
   "outputs": [
    {
     "data": {
      "text/plain": [
       "9786420"
      ]
     },
     "metadata": {},
     "output_type": "display_data"
    }
   ],
   "source": [
    "8675309 & digits . each +~ 1"
   ]
  },
  {
   "cell_type": "code",
   "execution_count": 71,
   "metadata": {},
   "outputs": [
    {
     "data": {
      "text/plain": [
       "123"
      ]
     },
     "metadata": {},
     "output_type": "display_data"
    }
   ],
   "source": [
    "8675309 & digits .~ [1,2,3]"
   ]
  },
  {
   "cell_type": "code",
   "execution_count": 72,
   "metadata": {},
   "outputs": [
    {
     "data": {
      "text/plain": [
       "9035768"
      ]
     },
     "metadata": {},
     "output_type": "display_data"
    }
   ],
   "source": [
    "8675309 & digits %~ reverse"
   ]
  },
  {
   "cell_type": "code",
   "execution_count": 73,
   "metadata": {},
   "outputs": [],
   "source": [
    "-- The Control.Lens.Prism documentation provides a prism for \n",
    "-- accessing only natural numbers:\n",
    "\n",
    "import Numeric.Natural ( Natural )\n",
    "\n",
    "nat :: Prism' Integer Natural\n",
    "nat = prism toInteger $ \\ i ->\n",
    "   if i < 0\n",
    "   then Left i\n",
    "   else Right (fromInteger i)"
   ]
  },
  {
   "cell_type": "code",
   "execution_count": 74,
   "metadata": {},
   "outputs": [
    {
     "data": {
      "text/plain": [
       "[2,-1,4,-2,6,-3,8,-4]"
      ]
     },
     "metadata": {},
     "output_type": "display_data"
    }
   ],
   "source": [
    "[1,-1,2,-2,3,-3,4,-4] & each . nat %~ (*2)"
   ]
  },
  {
   "cell_type": "code",
   "execution_count": 75,
   "metadata": {},
   "outputs": [
    {
     "data": {
      "text/plain": [
       "[2,-1,4,-2,6,-3,8,-4]"
      ]
     },
     "metadata": {},
     "output_type": "display_data"
    }
   ],
   "source": [
    "-- I guess it's more succinct than:\n",
    "[1,-1,2,-2,3,-3,4,-4] & each . filtered (>0) %~ (*2)"
   ]
  },
  {
   "cell_type": "code",
   "execution_count": 76,
   "metadata": {},
   "outputs": [
    {
     "data": {
      "text/plain": [
       "[2,-1,4,-2,6,-3,8,-4]"
      ]
     },
     "metadata": {},
     "output_type": "display_data"
    }
   ],
   "source": [
    "-- ...though:\n",
    "\n",
    "myNat = filtered (>0)\n",
    "\n",
    "[1,-1,2,-2,3,-3,4,-4] & each . myNat %~ (*2)"
   ]
  },
  {
   "cell_type": "code",
   "execution_count": 77,
   "metadata": {},
   "outputs": [
    {
     "data": {
      "text/plain": [
       "[1,2,3,11,5,6,7,8,9,10]"
      ]
     },
     "metadata": {},
     "output_type": "display_data"
    }
   ],
   "source": [
    "[1..10] & ix 3 +~ 7"
   ]
  },
  {
   "cell_type": "markdown",
   "metadata": {},
   "source": [
    "<hr>\n",
    "\n",
    "Everything below this line through the end of the section is just pulled fairly directly from [John Wiegly's excellent talk Putting Lenses to Work](https://www.youtube.com/watch?v=QZy4Yml3LTY).\n",
    "\n",
    "<hr>"
   ]
  },
  {
   "cell_type": "code",
   "execution_count": 78,
   "metadata": {},
   "outputs": [
    {
     "data": {
      "text/plain": [
       "867579"
      ]
     },
     "metadata": {},
     "output_type": "display_data"
    }
   ],
   "source": [
    "867509 & digits . ix 4 +~ 7"
   ]
  },
  {
   "cell_type": "code",
   "execution_count": 79,
   "metadata": {},
   "outputs": [
    {
     "data": {
      "text/plain": [
       "Profile {_username = \"john\", _friendCount = 5, _enemyCount = 0, _address = Address {_street = \"4040 N. Fairfax Drive\", _poBox = Just 123, _city = \"Arlington\", _state = \"VA\", _zipCode = 22203}}"
      ]
     },
     "metadata": {},
     "output_type": "display_data"
    }
   ],
   "source": [
    "prof -- remind ourselves"
   ]
  },
  {
   "cell_type": "code",
   "execution_count": 80,
   "metadata": {},
   "outputs": [
    {
     "data": {
      "text/plain": [
       "False"
      ]
     },
     "metadata": {},
     "output_type": "display_data"
    },
    {
     "data": {
      "text/plain": [
       "True"
      ]
     },
     "metadata": {},
     "output_type": "display_data"
    }
   ],
   "source": [
    "data Person = Person\n",
    "  { _name :: Text\n",
    "  , _age  :: Int\n",
    "  } deriving (Data, Eq, Generic, Ord, Read, Show)\n",
    "\n",
    "age :: Lens' Person Int\n",
    "age = lens _age (\\person a -> person { _age = a })\n",
    "\n",
    "people = [Person \"Alice\" 33, Person \"Bob\" 52, Person \"James\" 29, Person \"Susan\" 41]\n",
    "\n",
    "print $ allOf (each.age) even people\n",
    "print $ allOf (each.age) (>21) people"
   ]
  },
  {
   "cell_type": "code",
   "execution_count": 81,
   "metadata": {},
   "outputs": [
    {
     "data": {
      "text/plain": [
       "(10,20,30)"
      ]
     },
     "metadata": {},
     "output_type": "display_data"
    }
   ],
   "source": [
    "(1,2,3) & _1 .~ 10\n",
    "        & _2 .~ 20\n",
    "        & _3 .~ 30"
   ]
  },
  {
   "cell_type": "markdown",
   "metadata": {},
   "source": [
    "These `_N` style prisms work on many types of things that have a variable number of slots but they are convenient for accessing tuples in a size independent way (as opposed to the builtin `fst` and `snd` which are specific to 2-tuples):"
   ]
  },
  {
   "cell_type": "code",
   "execution_count": 82,
   "metadata": {},
   "outputs": [
    {
     "data": {
      "text/html": [
       "<style>/* Styles used for the Hoogle display in the pager */\n",
       ".hoogle-doc {\n",
       "display: block;\n",
       "padding-bottom: 1.3em;\n",
       "padding-left: 0.4em;\n",
       "}\n",
       ".hoogle-code {\n",
       "display: block;\n",
       "font-family: monospace;\n",
       "white-space: pre;\n",
       "}\n",
       ".hoogle-text {\n",
       "display: block;\n",
       "}\n",
       ".hoogle-name {\n",
       "color: green;\n",
       "font-weight: bold;\n",
       "}\n",
       ".hoogle-head {\n",
       "font-weight: bold;\n",
       "}\n",
       ".hoogle-sub {\n",
       "display: block;\n",
       "margin-left: 0.4em;\n",
       "}\n",
       ".hoogle-package {\n",
       "font-weight: bold;\n",
       "font-style: italic;\n",
       "}\n",
       ".hoogle-module {\n",
       "font-weight: bold;\n",
       "}\n",
       ".hoogle-class {\n",
       "font-weight: bold;\n",
       "}\n",
       ".get-type {\n",
       "color: green;\n",
       "font-weight: bold;\n",
       "font-family: monospace;\n",
       "display: block;\n",
       "white-space: pre-wrap;\n",
       "}\n",
       ".show-type {\n",
       "color: green;\n",
       "font-weight: bold;\n",
       "font-family: monospace;\n",
       "margin-left: 1em;\n",
       "}\n",
       ".mono {\n",
       "font-family: monospace;\n",
       "display: block;\n",
       "}\n",
       ".err-msg {\n",
       "color: red;\n",
       "font-style: italic;\n",
       "font-family: monospace;\n",
       "white-space: pre;\n",
       "display: block;\n",
       "}\n",
       "#unshowable {\n",
       "color: red;\n",
       "font-weight: bold;\n",
       "}\n",
       ".err-msg.in.collapse {\n",
       "padding-top: 0.7em;\n",
       "}\n",
       ".highlight-code {\n",
       "white-space: pre;\n",
       "font-family: monospace;\n",
       "}\n",
       ".suggestion-warning { \n",
       "font-weight: bold;\n",
       "color: rgb(200, 130, 0);\n",
       "}\n",
       ".suggestion-error { \n",
       "font-weight: bold;\n",
       "color: red;\n",
       "}\n",
       ".suggestion-name {\n",
       "font-weight: bold;\n",
       "}\n",
       "</style><span class='get-type'>fst :: forall b a. (a, b) -> a</span>"
      ],
      "text/plain": [
       "fst :: forall b a. (a, b) -> a"
      ]
     },
     "metadata": {},
     "output_type": "display_data"
    },
    {
     "data": {
      "text/html": [
       "<style>/* Styles used for the Hoogle display in the pager */\n",
       ".hoogle-doc {\n",
       "display: block;\n",
       "padding-bottom: 1.3em;\n",
       "padding-left: 0.4em;\n",
       "}\n",
       ".hoogle-code {\n",
       "display: block;\n",
       "font-family: monospace;\n",
       "white-space: pre;\n",
       "}\n",
       ".hoogle-text {\n",
       "display: block;\n",
       "}\n",
       ".hoogle-name {\n",
       "color: green;\n",
       "font-weight: bold;\n",
       "}\n",
       ".hoogle-head {\n",
       "font-weight: bold;\n",
       "}\n",
       ".hoogle-sub {\n",
       "display: block;\n",
       "margin-left: 0.4em;\n",
       "}\n",
       ".hoogle-package {\n",
       "font-weight: bold;\n",
       "font-style: italic;\n",
       "}\n",
       ".hoogle-module {\n",
       "font-weight: bold;\n",
       "}\n",
       ".hoogle-class {\n",
       "font-weight: bold;\n",
       "}\n",
       ".get-type {\n",
       "color: green;\n",
       "font-weight: bold;\n",
       "font-family: monospace;\n",
       "display: block;\n",
       "white-space: pre-wrap;\n",
       "}\n",
       ".show-type {\n",
       "color: green;\n",
       "font-weight: bold;\n",
       "font-family: monospace;\n",
       "margin-left: 1em;\n",
       "}\n",
       ".mono {\n",
       "font-family: monospace;\n",
       "display: block;\n",
       "}\n",
       ".err-msg {\n",
       "color: red;\n",
       "font-style: italic;\n",
       "font-family: monospace;\n",
       "white-space: pre;\n",
       "display: block;\n",
       "}\n",
       "#unshowable {\n",
       "color: red;\n",
       "font-weight: bold;\n",
       "}\n",
       ".err-msg.in.collapse {\n",
       "padding-top: 0.7em;\n",
       "}\n",
       ".highlight-code {\n",
       "white-space: pre;\n",
       "font-family: monospace;\n",
       "}\n",
       ".suggestion-warning { \n",
       "font-weight: bold;\n",
       "color: rgb(200, 130, 0);\n",
       "}\n",
       ".suggestion-error { \n",
       "font-weight: bold;\n",
       "color: red;\n",
       "}\n",
       ".suggestion-name {\n",
       "font-weight: bold;\n",
       "}\n",
       "</style><span class='get-type'>snd :: forall a b. (a, b) -> b</span>"
      ],
      "text/plain": [
       "snd :: forall a b. (a, b) -> b"
      ]
     },
     "metadata": {},
     "output_type": "display_data"
    }
   ],
   "source": [
    ":t fst\n",
    ":t snd"
   ]
  },
  {
   "cell_type": "markdown",
   "metadata": {},
   "source": [
    "Remember when we said not to treat tuples as lists... well, if you really want to:"
   ]
  },
  {
   "cell_type": "code",
   "execution_count": 83,
   "metadata": {},
   "outputs": [
    {
     "data": {
      "text/plain": [
       "[1,2,3]"
      ]
     },
     "metadata": {},
     "output_type": "display_data"
    }
   ],
   "source": [
    "(1,2,3) ^.. each"
   ]
  },
  {
   "cell_type": "code",
   "execution_count": 84,
   "metadata": {},
   "outputs": [
    {
     "data": {
      "text/plain": [
       "(2,4,6)"
      ]
     },
     "metadata": {},
     "output_type": "display_data"
    }
   ],
   "source": [
    "(1,2,3) & each *~ 2"
   ]
  },
  {
   "cell_type": "markdown",
   "metadata": {},
   "source": [
    "Of course this doesn't work if the types of all the slots are not of the same type:"
   ]
  },
  {
   "cell_type": "code",
   "execution_count": 85,
   "metadata": {},
   "outputs": [
    {
     "data": {
      "text/html": [
       "<style>/* Styles used for the Hoogle display in the pager */\n",
       ".hoogle-doc {\n",
       "display: block;\n",
       "padding-bottom: 1.3em;\n",
       "padding-left: 0.4em;\n",
       "}\n",
       ".hoogle-code {\n",
       "display: block;\n",
       "font-family: monospace;\n",
       "white-space: pre;\n",
       "}\n",
       ".hoogle-text {\n",
       "display: block;\n",
       "}\n",
       ".hoogle-name {\n",
       "color: green;\n",
       "font-weight: bold;\n",
       "}\n",
       ".hoogle-head {\n",
       "font-weight: bold;\n",
       "}\n",
       ".hoogle-sub {\n",
       "display: block;\n",
       "margin-left: 0.4em;\n",
       "}\n",
       ".hoogle-package {\n",
       "font-weight: bold;\n",
       "font-style: italic;\n",
       "}\n",
       ".hoogle-module {\n",
       "font-weight: bold;\n",
       "}\n",
       ".hoogle-class {\n",
       "font-weight: bold;\n",
       "}\n",
       ".get-type {\n",
       "color: green;\n",
       "font-weight: bold;\n",
       "font-family: monospace;\n",
       "display: block;\n",
       "white-space: pre-wrap;\n",
       "}\n",
       ".show-type {\n",
       "color: green;\n",
       "font-weight: bold;\n",
       "font-family: monospace;\n",
       "margin-left: 1em;\n",
       "}\n",
       ".mono {\n",
       "font-family: monospace;\n",
       "display: block;\n",
       "}\n",
       ".err-msg {\n",
       "color: red;\n",
       "font-style: italic;\n",
       "font-family: monospace;\n",
       "white-space: pre;\n",
       "display: block;\n",
       "}\n",
       "#unshowable {\n",
       "color: red;\n",
       "font-weight: bold;\n",
       "}\n",
       ".err-msg.in.collapse {\n",
       "padding-top: 0.7em;\n",
       "}\n",
       ".highlight-code {\n",
       "white-space: pre;\n",
       "font-family: monospace;\n",
       "}\n",
       ".suggestion-warning { \n",
       "font-weight: bold;\n",
       "color: rgb(200, 130, 0);\n",
       "}\n",
       ".suggestion-error { \n",
       "font-weight: bold;\n",
       "color: red;\n",
       "}\n",
       ".suggestion-name {\n",
       "font-weight: bold;\n",
       "}\n",
       "</style><span class='err-msg'>&lt;interactive&gt;:1:10: error:<br/>    • No instance for (IsString Char) arising from the literal ‘\"foo\"’<br/>    • In the expression: \"foo\"<br/>      In the first argument of ‘(&amp;)’, namely ‘(1, 'b', \"foo\")’<br/>      In the expression: (1, 'b', \"foo\") &amp; each *~ 2<br/>&lt;interactive&gt;:1:19: error:<br/>    • No instance for (Num Char) arising from a use of ‘*~’<br/>    • In the second argument of ‘(&amp;)’, namely ‘each *~ 2’<br/>      In the expression: (1, 'b', \"foo\") &amp; each *~ 2<br/>      In an equation for ‘it’: it = (1, 'b', \"foo\") &amp; each *~ 2</span>"
      ],
      "text/plain": [
       "<interactive>:1:10: error:\n",
       "    • No instance for (IsString Char) arising from the literal ‘\"foo\"’\n",
       "    • In the expression: \"foo\"\n",
       "      In the first argument of ‘(&)’, namely ‘(1, 'b', \"foo\")’\n",
       "      In the expression: (1, 'b', \"foo\") & each *~ 2\n",
       "<interactive>:1:19: error:\n",
       "    • No instance for (Num Char) arising from a use of ‘*~’\n",
       "    • In the second argument of ‘(&)’, namely ‘each *~ 2’\n",
       "      In the expression: (1, 'b', \"foo\") & each *~ 2\n",
       "      In an equation for ‘it’: it = (1, 'b', \"foo\") & each *~ 2"
      ]
     },
     "metadata": {},
     "output_type": "display_data"
    }
   ],
   "source": [
    "(1, 'b', \"foo\") & each *~ 2"
   ]
  },
  {
   "cell_type": "code",
   "execution_count": 86,
   "metadata": {},
   "outputs": [
    {
     "data": {
      "text/plain": [
       "[2,6,1,5,3,4]"
      ]
     },
     "metadata": {},
     "output_type": "display_data"
    }
   ],
   "source": [
    "[2,4,1,5,3,6] & partsOf (traversed.indices odd) %~ reverse"
   ]
  },
  {
   "cell_type": "code",
   "execution_count": 87,
   "metadata": {},
   "outputs": [
    {
     "data": {
      "text/plain": [
       "[3,4,2,5,1,6]"
      ]
     },
     "metadata": {},
     "output_type": "display_data"
    }
   ],
   "source": [
    "[2,4,1,5,3,6] & partsOf (each.filtered (<4)) %~ reverse.sort"
   ]
  },
  {
   "cell_type": "code",
   "execution_count": 88,
   "metadata": {},
   "outputs": [
    {
     "data": {
      "text/plain": [
       "(1,2,3,4,5)"
      ]
     },
     "metadata": {},
     "output_type": "display_data"
    }
   ],
   "source": [
    "-- Less impressive if you're not already a Haskell programmer... doing this without lenses would be laborious.\n",
    "\n",
    "(3,1,2,4,5) & partsOf each %~ sort"
   ]
  },
  {
   "cell_type": "code",
   "execution_count": 89,
   "metadata": {},
   "outputs": [
    {
     "data": {
      "text/plain": [
       "\"Howdy !!!ld\""
      ]
     },
     "metadata": {},
     "output_type": "display_data"
    }
   ],
   "source": [
    "import Data.String ( String )\n",
    "import qualified Data.Char as C\n",
    "\n",
    "str :: String -> String\n",
    "str = identity\n",
    "\n",
    "str \"Hello World\" & partsOf (each.filtered C.isAlpha) .~ \"Howdy!!!\""
   ]
  },
  {
   "cell_type": "code",
   "execution_count": 90,
   "metadata": {},
   "outputs": [
    {
     "data": {
      "text/plain": [
       "[\"foo\",\"bar\",\"!\"]"
      ]
     },
     "metadata": {},
     "output_type": "display_data"
    }
   ],
   "source": [
    "((str \"foo\", str \"bar\"), \"!\", 2 :: Int, ()) ^.. biplate :: [String]"
   ]
  },
  {
   "cell_type": "code",
   "execution_count": 91,
   "metadata": {},
   "outputs": [
    {
     "data": {
      "text/html": [
       "<style>/* Styles used for the Hoogle display in the pager */\n",
       ".hoogle-doc {\n",
       "display: block;\n",
       "padding-bottom: 1.3em;\n",
       "padding-left: 0.4em;\n",
       "}\n",
       ".hoogle-code {\n",
       "display: block;\n",
       "font-family: monospace;\n",
       "white-space: pre;\n",
       "}\n",
       ".hoogle-text {\n",
       "display: block;\n",
       "}\n",
       ".hoogle-name {\n",
       "color: green;\n",
       "font-weight: bold;\n",
       "}\n",
       ".hoogle-head {\n",
       "font-weight: bold;\n",
       "}\n",
       ".hoogle-sub {\n",
       "display: block;\n",
       "margin-left: 0.4em;\n",
       "}\n",
       ".hoogle-package {\n",
       "font-weight: bold;\n",
       "font-style: italic;\n",
       "}\n",
       ".hoogle-module {\n",
       "font-weight: bold;\n",
       "}\n",
       ".hoogle-class {\n",
       "font-weight: bold;\n",
       "}\n",
       ".get-type {\n",
       "color: green;\n",
       "font-weight: bold;\n",
       "font-family: monospace;\n",
       "display: block;\n",
       "white-space: pre-wrap;\n",
       "}\n",
       ".show-type {\n",
       "color: green;\n",
       "font-weight: bold;\n",
       "font-family: monospace;\n",
       "margin-left: 1em;\n",
       "}\n",
       ".mono {\n",
       "font-family: monospace;\n",
       "display: block;\n",
       "}\n",
       ".err-msg {\n",
       "color: red;\n",
       "font-style: italic;\n",
       "font-family: monospace;\n",
       "white-space: pre;\n",
       "display: block;\n",
       "}\n",
       "#unshowable {\n",
       "color: red;\n",
       "font-weight: bold;\n",
       "}\n",
       ".err-msg.in.collapse {\n",
       "padding-top: 0.7em;\n",
       "}\n",
       ".highlight-code {\n",
       "white-space: pre;\n",
       "font-family: monospace;\n",
       "}\n",
       ".suggestion-warning { \n",
       "font-weight: bold;\n",
       "color: rgb(200, 130, 0);\n",
       "}\n",
       ".suggestion-error { \n",
       "font-weight: bold;\n",
       "color: red;\n",
       "}\n",
       ".suggestion-name {\n",
       "font-weight: bold;\n",
       "}\n",
       "</style><span class='get-type'>((str \"foo\", str \"bar\"), str \"!\", 2 :: Int, ()) :: ((String, String), String, Int, ())</span>"
      ],
      "text/plain": [
       "((str \"foo\", str \"bar\"), str \"!\", 2 :: Int, ()) :: ((String, String), String, Int, ())"
      ]
     },
     "metadata": {},
     "output_type": "display_data"
    }
   ],
   "source": [
    ":t ((str \"foo\", str \"bar\"), str \"!\", 2 :: Int, ())"
   ]
  },
  {
   "cell_type": "code",
   "execution_count": 92,
   "metadata": {},
   "outputs": [
    {
     "data": {
      "text/plain": [
       "((\"FOO\",\"BAR\"),\"!\",2,())"
      ]
     },
     "metadata": {},
     "output_type": "display_data"
    }
   ],
   "source": [
    "((str \"foo\", str \"bar\"), \"!\", 2 :: Int, ()) & biplate %~ C.toUpper"
   ]
  },
  {
   "cell_type": "code",
   "execution_count": 93,
   "metadata": {},
   "outputs": [
    {
     "data": {
      "text/plain": [
       "((\"!ra\",\"boo\"),\"f\",2,())"
      ]
     },
     "metadata": {},
     "output_type": "display_data"
    }
   ],
   "source": [
    "((str \"foo\", str \"bar\"), \"!\", 2 :: Int, ()) & partsOf biplate %~ (reverse :: String -> String)"
   ]
  },
  {
   "cell_type": "code",
   "execution_count": 94,
   "metadata": {},
   "outputs": [
    {
     "data": {
      "text/plain": [
       "((\"Foo\",\"Bar\"),\"Baz!\",2,())"
      ]
     },
     "metadata": {},
     "output_type": "display_data"
    }
   ],
   "source": [
    "((str \"foo\", str \"bar\"), \"baz!\", 2 :: Int, ()) & (biplate :: Data s => Traversal' s String)._head %~ C.toUpper"
   ]
  },
  {
   "cell_type": "code",
   "execution_count": 95,
   "metadata": {},
   "outputs": [
    {
     "data": {
      "text/plain": [
       "((\"!oo\",\"abr\"),\"f\",2,())"
      ]
     },
     "metadata": {},
     "output_type": "display_data"
    }
   ],
   "source": [
    "((str \"foo\", str \"bar\"), \"!\", 2 :: Int, ()) & partsOf (biplate . filtered (<= 'm')) %~ (reverse :: String -> String)"
   ]
  },
  {
   "cell_type": "markdown",
   "metadata": {},
   "source": [
    "## Duck Lens\n",
    "\n",
    "I made some lenses to make using [Facebook's Duckling parser](https://github.com/facebook/duckling) easy:"
   ]
  },
  {
   "cell_type": "code",
   "execution_count": 96,
   "metadata": {},
   "outputs": [],
   "source": [
    "import           Duck.Lens\n",
    "import qualified Duck.Lens as DL  -- too disambiguate vs our `address` function from above"
   ]
  },
  {
   "cell_type": "markdown",
   "metadata": {},
   "source": [
    "### Email Addresses"
   ]
  },
  {
   "cell_type": "code",
   "execution_count": 97,
   "metadata": {},
   "outputs": [
    {
     "data": {
      "text/plain": [
       "john@interos.net"
      ]
     },
     "metadata": {},
     "output_type": "display_data"
    },
    {
     "data": {
      "text/plain": [
       "bob@example.com"
      ]
     },
     "metadata": {},
     "output_type": "display_data"
    },
    {
     "data": {
      "text/plain": [
       "spy@whitehouse.gov"
      ]
     },
     "metadata": {},
     "output_type": "display_data"
    }
   ],
   "source": [
    "let emailText = \"Please contact john@interos.net, bob@example.com and spy@whitehouse.gov about the secret meeting.\"\n",
    "\n",
    "emailText ^.. emailAddresses . DL.address"
   ]
  },
  {
   "cell_type": "code",
   "execution_count": 98,
   "metadata": {},
   "outputs": [
    {
     "data": {
      "text/plain": [
       "john"
      ]
     },
     "metadata": {},
     "output_type": "display_data"
    },
    {
     "data": {
      "text/plain": [
       "bob"
      ]
     },
     "metadata": {},
     "output_type": "display_data"
    },
    {
     "data": {
      "text/plain": [
       "spy"
      ]
     },
     "metadata": {},
     "output_type": "display_data"
    }
   ],
   "source": [
    "emailText ^.. emailAddresses . user"
   ]
  },
  {
   "cell_type": "code",
   "execution_count": 99,
   "metadata": {},
   "outputs": [
    {
     "data": {
      "text/plain": [
       "interos.net"
      ]
     },
     "metadata": {},
     "output_type": "display_data"
    },
    {
     "data": {
      "text/plain": [
       "example.com"
      ]
     },
     "metadata": {},
     "output_type": "display_data"
    },
    {
     "data": {
      "text/plain": [
       "whitehouse.gov"
      ]
     },
     "metadata": {},
     "output_type": "display_data"
    }
   ],
   "source": [
    "emailText ^.. emailAddresses . domain"
   ]
  },
  {
   "cell_type": "code",
   "execution_count": 100,
   "metadata": {},
   "outputs": [
    {
     "data": {
      "text/plain": [
       "Please contact [redacted], [redacted] and [redacted] about the secret meeting."
      ]
     },
     "metadata": {},
     "output_type": "display_data"
    }
   ],
   "source": [
    "emailText & emailAddresses . DL.address .~ \"[redacted]\""
   ]
  },
  {
   "cell_type": "code",
   "execution_count": 101,
   "metadata": {},
   "outputs": [
    {
     "data": {
      "text/plain": [
       "Please contact john@[redacted], bob@[redacted] and spy@[redacted] about the secret meeting."
      ]
     },
     "metadata": {},
     "output_type": "display_data"
    }
   ],
   "source": [
    "emailText & emailAddresses . domain .~ \"[redacted]\""
   ]
  },
  {
   "cell_type": "code",
   "execution_count": 102,
   "metadata": {},
   "outputs": [
    {
     "data": {
      "text/plain": [
       "Please contact [redacted]@interos.net, [redacted]@example.com and [redacted]@whitehouse.gov about the secret meeting."
      ]
     },
     "metadata": {},
     "output_type": "display_data"
    }
   ],
   "source": [
    "emailText & emailAddresses . user .~ \"[redacted]\""
   ]
  },
  {
   "cell_type": "code",
   "execution_count": 103,
   "metadata": {},
   "outputs": [
    {
     "data": {
      "text/plain": [
       "Please contact JOHN@INTEROS.NET, BOB@EXAMPLE.COM and SPY@WHITEHOUSE.GOV about the secret meeting."
      ]
     },
     "metadata": {},
     "output_type": "display_data"
    }
   ],
   "source": [
    "emailText & emailAddresses . DL.address %~ T.toUpper"
   ]
  },
  {
   "cell_type": "code",
   "execution_count": 104,
   "metadata": {},
   "outputs": [
    {
     "data": {
      "text/plain": [
       "Please contact john@INTEROS.NET, bob@EXAMPLE.COM and spy@WHITEHOUSE.GOV about the secret meeting."
      ]
     },
     "metadata": {},
     "output_type": "display_data"
    }
   ],
   "source": [
    "emailText & emailAddresses . domain %~ T.toUpper"
   ]
  },
  {
   "cell_type": "code",
   "execution_count": 105,
   "metadata": {},
   "outputs": [
    {
     "data": {
      "text/plain": [
       "Please contact JOHN@interos.net, BOB@example.com and SPY@whitehouse.gov about the secret meeting."
      ]
     },
     "metadata": {},
     "output_type": "display_data"
    }
   ],
   "source": [
    "emailText & emailAddresses . user %~ T.toUpper"
   ]
  },
  {
   "cell_type": "markdown",
   "metadata": {},
   "source": [
    "### Phone Numbers\n",
    "\n",
    "Caveats\n",
    "- Prefixes and Extensions don't work\n",
    "- Detection is overly broad (this is on Duckling)."
   ]
  },
  {
   "cell_type": "code",
   "execution_count": 106,
   "metadata": {},
   "outputs": [
    {
     "data": {
      "text/plain": [
       "303-555-1212"
      ]
     },
     "metadata": {},
     "output_type": "display_data"
    },
    {
     "data": {
      "text/plain": [
       "(720) 444-2121"
      ]
     },
     "metadata": {},
     "output_type": "display_data"
    },
    {
     "data": {
      "text/plain": [
       "9998887777"
      ]
     },
     "metadata": {},
     "output_type": "display_data"
    }
   ],
   "source": [
    "let phoneStr = \"303-555-1212 and (720) 444-2121 and also 9998887777... the end\" \n",
    "\n",
    "phoneStr ^.. phoneNumbers . format"
   ]
  },
  {
   "cell_type": "code",
   "execution_count": 107,
   "metadata": {},
   "outputs": [
    {
     "data": {
      "text/plain": [
       "3035551212"
      ]
     },
     "metadata": {},
     "output_type": "display_data"
    },
    {
     "data": {
      "text/plain": [
       "7204442121"
      ]
     },
     "metadata": {},
     "output_type": "display_data"
    },
    {
     "data": {
      "text/plain": [
       "9998887777"
      ]
     },
     "metadata": {},
     "output_type": "display_data"
    }
   ],
   "source": [
    "phoneStr ^.. phoneNumbers . numbers"
   ]
  },
  {
   "cell_type": "code",
   "execution_count": 108,
   "metadata": {},
   "outputs": [
    {
     "data": {
      "text/plain": [
       "XXX-XXX-XXXX and (XXX) XXX-XXXX and also XXXXXXXXXX... the end"
      ]
     },
     "metadata": {},
     "output_type": "display_data"
    }
   ],
   "source": [
    "phoneStr & phoneNumbers . numbers .~ \"XXXXXXXXXX\""
   ]
  },
  {
   "cell_type": "code",
   "execution_count": 109,
   "metadata": {},
   "outputs": [
    {
     "data": {
      "text/plain": [
       "800-867-5309 and (800) 867-5309 and also 8008675309... the end"
      ]
     },
     "metadata": {},
     "output_type": "display_data"
    }
   ],
   "source": [
    "phoneStr & phoneNumbers . numbers .~ \"8008675309\""
   ]
  },
  {
   "cell_type": "code",
   "execution_count": 110,
   "metadata": {},
   "outputs": [
    {
     "data": {
      "text/plain": [
       "(303) 555-1212 and (720) 444-2121 and also (999) 888-7777... the end"
      ]
     },
     "metadata": {},
     "output_type": "display_data"
    }
   ],
   "source": [
    "phoneStr & phoneNumbers . format .~ \"(111) 111-1111\""
   ]
  },
  {
   "cell_type": "code",
   "execution_count": 111,
   "metadata": {},
   "outputs": [
    {
     "data": {
      "text/plain": [
       "212-155-5303 and (121) 244-4027 and also 7777888999... the end"
      ]
     },
     "metadata": {},
     "output_type": "display_data"
    }
   ],
   "source": [
    "phoneStr & phoneNumbers . numbers %~ T.reverse"
   ]
  },
  {
   "cell_type": "markdown",
   "metadata": {},
   "source": [
    "### Numerals"
   ]
  },
  {
   "cell_type": "code",
   "execution_count": 112,
   "metadata": {},
   "outputs": [
    {
     "data": {
      "text/plain": [
       "ninety nine"
      ]
     },
     "metadata": {},
     "output_type": "display_data"
    },
    {
     "data": {
      "text/plain": [
       "one"
      ]
     },
     "metadata": {},
     "output_type": "display_data"
    }
   ],
   "source": [
    "numStr = \"I've got ninety nine problems but a lens ain't one.\"\n",
    "\n",
    "numStr ^.. numerals . asWritten"
   ]
  },
  {
   "cell_type": "code",
   "execution_count": 113,
   "metadata": {},
   "outputs": [
    {
     "data": {
      "text/plain": [
       "[99.0,1.0]"
      ]
     },
     "metadata": {},
     "output_type": "display_data"
    }
   ],
   "source": [
    "numStr ^.. numerals . asNumber"
   ]
  },
  {
   "cell_type": "code",
   "execution_count": 114,
   "metadata": {},
   "outputs": [
    {
     "data": {
      "text/plain": [
       "I've got enin ytenin problems but a lens ain't eno."
      ]
     },
     "metadata": {},
     "output_type": "display_data"
    }
   ],
   "source": [
    "numStr & numerals . asWritten %~ T.reverse"
   ]
  },
  {
   "cell_type": "code",
   "execution_count": 115,
   "metadata": {},
   "outputs": [
    {
     "data": {
      "text/plain": [
       "I've got one hundred nine problems but a lens ain't eleven."
      ]
     },
     "metadata": {},
     "output_type": "display_data"
    }
   ],
   "source": [
    "numStr & numerals . asNumber +~ 10"
   ]
  },
  {
   "cell_type": "code",
   "execution_count": 116,
   "metadata": {},
   "outputs": [
    {
     "data": {
      "text/plain": [
       "I've got forty-two problems but a lens ain't forty-two."
      ]
     },
     "metadata": {},
     "output_type": "display_data"
    }
   ],
   "source": [
    "numStr & numerals . asNumber .~ 42.0"
   ]
  },
  {
   "cell_type": "code",
   "execution_count": 117,
   "metadata": {},
   "outputs": [
    {
     "data": {
      "text/plain": [
       "I've got [redacted] problems but a lens ain't [redacted]."
      ]
     },
     "metadata": {},
     "output_type": "display_data"
    }
   ],
   "source": [
    "numStr & numerals . asWritten .~ \"[redacted]\""
   ]
  },
  {
   "cell_type": "markdown",
   "metadata": {},
   "source": [
    "## Property-based Testing with QuickCheck\n",
    "\n",
    "Property based testing exists at a point in between manual unit/UAT tests and proofs both on the spectrum of the value it provides and the effort that is required.\n",
    "\n",
    "With manual testing the programmer thinks about ways in which the code under test might break and then implements individual tests to check each of the possible failure modes they can think of.  This usually involves thinking about boundary conditions -- if a number is accepted as input: what happens if it's negative? zero? very large? etc.  If it's a string what happens if it is empty? if it contains unicode? if it's very large? \n",
    "\n",
    "There are several problems with this approach.  The first is it only proves the specific cases that tests are written for don't occur -- it says nothing about the entire rest of the space of possibilities.  Secondly it is labor intensive as the more things you want to test the more tests you have to write.  Thirdly the tests are written by humans which can make mistakes in test code just as easily as they can in the code under test.  What's the solution to this? Do we need to write tests for our tests?\n",
    "\n",
    "At the opposite end of the spectrum is formal verification of programs via proofs.  Proofs solve the first problem -- a valid proof proves that a program (or function, etc) works correctly for all possible inputs.  They are still very labor intensive, but they scale better -- the programmer doesn't have to create a bigger proof to get more certainty.  One the third point proofs done by hand would suffer the same problem as unit tests -- human fallibility -- but no one does formal verification by hand.  For a long time (at least as I understand it) most systems for formal verification such as [Coq](https://coq.inria.fr/) and [Isabelle](https://isabelle.in.tum.de/) were very difficult to work with and using proofs as a means of guaranteeing properties of practical programs was not considered feasible by many.\n",
    "\n",
    "These days the situation has improved with languages like Idris and Agda that blur the line between language and proof systems, but in the meantime property testing strikes a good balance in that they can be used effectively today in Haskell (and other languages) but they provide a level of confidence that, while less than that provided by formal proofs, is much greater than that provided by hand written tests.\n",
    "\n",
    "The way it works is that you essentially provide a predicate which describes the property you expect to hold and the property testing library (in our case [QuickCheck](https://hackage.haskell.org/package/QuickCheck)) generates a bunch of random inputs and tries them all, checking that the predicate holds.  QuickCheck uses some heuristics to try to do the same sort of things that a human developer would -- testing boundary conditions and so forth.\n",
    "\n",
    "Let's see an example:"
   ]
  },
  {
   "cell_type": "code",
   "execution_count": 118,
   "metadata": {},
   "outputs": [],
   "source": [
    "import           Test.QuickCheck\n",
    "import qualified Test.QuickCheck as QC\n",
    "\n",
    "never5_property :: (Eq a, Num a) => [a] -> Bool\n",
    "never5_property = notElem 5"
   ]
  },
  {
   "cell_type": "markdown",
   "metadata": {},
   "source": [
    "Now that we have a property we can check it with the `quickCheck` function:"
   ]
  },
  {
   "cell_type": "code",
   "execution_count": 119,
   "metadata": {},
   "outputs": [
    {
     "data": {
      "text/plain": [
       "*** Failed! Falsifiable (after 8 tests and 3 shrinks): \n",
       "[5]"
      ]
     },
     "metadata": {},
     "output_type": "display_data"
    }
   ],
   "source": [
    "quickCheck never5_property"
   ]
  },
  {
   "cell_type": "markdown",
   "metadata": {},
   "source": [
    "We can see that (after 15 attempts) it found a counterexample -- the obvious one -- a list with just the number 5 in it.\n",
    "\n",
    "The \"4 shrinks\" part refers to an interesting feature of QuickCheck in which, once QuickCheck finds a counter example it attempts to shrink it down to the smallest possible failing case.  We can see what's going on by using the `verboseCheck` function instead:"
   ]
  },
  {
   "cell_type": "code",
   "execution_count": 120,
   "metadata": {},
   "outputs": [
    {
     "data": {
      "text/plain": [
       "Passed:\n",
       "[]\n",
       "Passed:\n",
       "[-1]\n",
       "Passed:\n",
       "[]\n",
       "Passed:\n",
       "[3,0,0]\n",
       "Passed:\n",
       "[2,2]\n",
       "Passed:\n",
       "[-1,-3,-1,4]\n",
       "Passed:\n",
       "[-5,1]\n",
       "Passed:\n",
       "[]\n",
       "Passed:\n",
       "[0]\n",
       "Passed:\n",
       "[0,-1,-1,-5,-8,3,-8,6]\n",
       "Passed:\n",
       "[-8]\n",
       "Passed:\n",
       "[-10,8]\n",
       "Passed:\n",
       "[12,4,-5,1,3,-3,4,11,-10]\n",
       "Passed:\n",
       "[9,-2,-2,9]\n",
       "Passed:\n",
       "[-12,-6,-2,-2,3,-9,-6,0,-13,11,0]\n",
       "Passed:\n",
       "[0,12,-8,2,3,8]\n",
       "Passed:\n",
       "[8,12,-6,-12,-14,0,-8,-7,13,-8]\n",
       "Passed:\n",
       "[-2,10,4,-3,12,11,-14,-14,-4,3,8,-1]\n",
       "Failed:\n",
       "[6,11,-11,14,5]\n",
       "*** Failed! Passed:\n",
       "[]\n",
       "Failed:\n",
       "[-11,14,5]\n",
       "Passed:\n",
       "[]\n",
       "Failed:\n",
       "[14,5]\n",
       "Passed:\n",
       "[]\n",
       "Failed:\n",
       "[5]\n",
       "Passed:\n",
       "[]\n",
       "Passed:\n",
       "[0]\n",
       "Passed:\n",
       "[3]\n",
       "Passed:\n",
       "[4]\n",
       "Falsifiable (after 19 tests and 3 shrinks): \n",
       "[5]"
      ]
     },
     "metadata": {},
     "output_type": "display_data"
    }
   ],
   "source": [
    "verboseCheck never5_property"
   ]
  },
  {
   "cell_type": "markdown",
   "metadata": {},
   "source": [
    "I'm not sure why it tries the empty list multiple times but we can see that it first found a list with multiple numbers in it, and then eventually managed to shrink it down to the minimal case.\n",
    "\n",
    "As a side note, [hypothesis](https://github.com/HypothesisWorks/hypothesis) is a QuickCheck like testing framework for python that gets rave reviews and as I understand it has most of the features of QuickCheck (eg shrinking) -- though I have not used it myself."
   ]
  },
  {
   "cell_type": "markdown",
   "metadata": {},
   "source": [
    "## Haxl\n",
    "\n",
    "[Haxl](https://github.com/facebook/Haxl) is a library developed at Facebook which describes itself as:\n",
    "\n",
    "> Haxl is a Haskell library that simplifies access to remote data, such as databases or web-based services. Haxl can automatically\n",
    ">\n",
    ">    - batch multiple requests to the same data source,\n",
    ">    - request data from multiple data sources concurrently,\n",
    ">    - cache previous requests,\n",
    ">    - memoize computations.\n",
    ">\n",
    "> Having all this handled for you behind the scenes means that your data-fetching code can be much cleaner and clearer than it would otherwise be if it had to worry about optimizing data-fetching. \n",
    "    \n",
    "This is only really possible because Haskell allows us to encode effects in types such that it can know what is safe to cache/memoize/etc.  This could be done in other languages but only by building machinery that provides some of the guarantees that we get for free with Haskell's type system and then it would likely still be underpowered and probably consist of an awkward DSL that exists a level above the language itself, whereas with Haxl in Haskell you can implement normal \"straight line code\" that looks something like this:\n",
    "\n",
    "```haskell\n",
    "user           <- getUserById userId\n",
    "friends        <- getFriends user\n",
    "friendsFriends <- mapM getFriends friends\n",
    "doSomethingWith friendsFriends\n",
    " where \n",
    "   getFriends user = mapM getUserById (friendsOf user)\n",
    "```\n",
    "\n",
    "and it will behave like normal evaluation by evaluating the first line first, since the user is a data dependency of the next getFriends call, but then the individual requests to fetch the friends which is written like a sequential map over the list of friends will automatically be run in parallel and likewise for the friend's friends... but furthermore if any of the friend's friends are also the user's friends then the requests for those friends will be cached and reused instead of being re-fetched."
   ]
  },
  {
   "cell_type": "markdown",
   "metadata": {},
   "source": [
    "## Dependently Typed Tensorflow\n",
    "\n",
    "https://www.youtube.com/watch?v=ulwoUq6VaSs\n",
    "\n",
    "https://mmhaskell.com/blog/2017/9/11/deep-learning-and-deep-types-tensor-flow-and-dependent-types\n"
   ]
  },
  {
   "cell_type": "markdown",
   "metadata": {},
   "source": [
    "## Idris (Beyond Haskell)\n",
    "\n",
    "Live demo illustrating:\n",
    "- Dependent types\n",
    "- Getting the compiler to write your code for you\n",
    "- Proving properties about your code (take that, QuickCheck!)"
   ]
  },
  {
   "cell_type": "markdown",
   "metadata": {},
   "source": [
    "## How to Get Started with Haskell\n",
    "\n",
    "If I've managed to pique your curiosity enough that you want to try Haskell out, one of the first issues you will run into is whether to use `cabal (new-build)` or `stack`.  Cabal is the perennial build/package management tool for Haskell.  For a long time it was so bad that the experience of using it often resulted in what came to be known as \"cabal hell\" and you can still find many references to how to escape from cabal hell in Google.\n",
    "\n",
    "To fix this, Michael Snoyman created [Stack](https://docs.haskellstack.org/en/stable/README/) which solved the vast majority of problems associated with cabal hell in one fell swoop.  Snoyman is a bit of controversial figure in the community and this (finally) led to great enough dissatisfaction on the behalf of the cabal developers that they created [\"cabal new-build\"](https://www.haskell.org/cabal/users-guide/nix-local-build-overview.html) to attempt to address the problems in their own way.\n",
    "\n",
    "As I understand it these days it's roughly on parity with Stack's features though as a happy Stack user I haven't used it enough to be comfortable with it.  There's also a third option these days, which is using [the nix package manager](https://nixos.org/nix/).  The nix package manager was created for NixOS but can be used on any other unix operating system including OS X.  I am not sure about the level of support for windows. Nix, like haskell, has a fairly rough learning curve but I'm told that, like haskell, it is worth it -- but I haven't used it enough to testify to that point myself.\n",
    "\n",
    "Beyond using Stack you'll have to deal with getting editor integration working.  There are at least three good options for Emacs: [Haskell Mode](https://github.com/haskell/haskell-mode), [Intero](https://github.com/commercialhaskell/intero) (no s) and [dante](https://github.com/jyp/dante).  I happen to use haskell-mode but that's largely just historical happenstance.\n",
    "\n",
    "There seem to be plenty of Vim users seem to are happy with their Haskell setups but I have no knowledge of the Vim related tooling.\n",
    "\n",
    "There are at least two good options for getting started quickly if you don't have a strong Editor/IDE preference -- the first is just to use whatever editor you want (probably with at least Haskell syntax highlighting installed) and then use [ghcid](https://github.com/ndmitchell/ghcid) as [described here](https://www.parsonsmatt.org/2018/05/19/ghcid_for_the_win.html).  Ghcid is lightweight, \"just works\" with any other tooling and should work on any platform.  The second is to use [VSCode with Haskelly](https://blogs.msdn.microsoft.com/uk_faculty_connection/2017/06/08/learning-haskell-and-using-vscode-and-haskelly/) which gives you a fairly typical featureful IDE setup.\n",
    "\n",
    "And of course if you run into trouble or have any questions, please don't hesitate to reach out to me!"
   ]
  },
  {
   "cell_type": "code",
   "execution_count": null,
   "metadata": {},
   "outputs": [],
   "source": []
  }
 ],
 "metadata": {
  "kernelspec": {
   "display_name": "Haskell",
   "language": "haskell",
   "name": "haskell"
  },
  "language_info": {
   "codemirror_mode": "ihaskell",
   "file_extension": ".hs",
   "name": "haskell",
   "version": "8.0.2"
  }
 },
 "nbformat": 4,
 "nbformat_minor": 2
}
